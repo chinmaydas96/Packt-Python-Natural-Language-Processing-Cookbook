{
 "cells": [
  {
   "cell_type": "code",
   "execution_count": 4,
   "id": "d18c6104",
   "metadata": {},
   "outputs": [],
   "source": [
    "# ! pip install sklearn gensim langdetect  torch transformers sentence-transformers whoosh -U "
   ]
  },
  {
   "cell_type": "markdown",
   "id": "6a314d9e",
   "metadata": {},
   "source": [
    "#### Related links\n",
    "\n",
    "* https://www.kaggle.com/currie32/project-gutenbergs-top-20-books\n",
    "* https://www.kaggle.com/PromptCloudHQ/imdb-data\n",
    "* https://www.yelp.com/dataset\n",
    "* http://vectors.nlpl.eu/repository/20/40.zip"
   ]
  },
  {
   "cell_type": "markdown",
   "id": "14e90548",
   "metadata": {},
   "source": [
    "# Putting documents into a bag of words\n",
    "\n",
    "* A bag of words is the simplest way of representing text. We treat our text as a collection of documents, where documents are anything from sentences to book chapters to whole books. \n",
    "\n",
    "\n",
    "* Since we usually compare different documents to each other or use them in a larger context of other documents, typically, we work with a collection of documents, not just a single document."
   ]
  },
  {
   "cell_type": "code",
   "execution_count": 8,
   "id": "998661c6",
   "metadata": {},
   "outputs": [],
   "source": [
    "import sys\n",
    "sys.path.append('..')"
   ]
  },
  {
   "cell_type": "code",
   "execution_count": 10,
   "id": "03d5f7a3",
   "metadata": {},
   "outputs": [],
   "source": [
    "from sklearn.feature_extraction.text import CountVectorizer\n",
    "from Chapter01.dividing_into_sentences import read_text_file,\\\n",
    "preprocess_text, divide_into_sentences_nltk"
   ]
  },
  {
   "cell_type": "code",
   "execution_count": 12,
   "id": "e80035cd",
   "metadata": {},
   "outputs": [],
   "source": [
    "#. Read in the text file, preprocess the text, \n",
    "# and divide it into sentences:\n",
    "\n",
    "def get_sentences(filename):\n",
    "    sherlock_holmes_text = read_text_file(filename)\n",
    "    sherlock_holmes_text = preprocess_text(sherlock_holmes_text)\n",
    "    senteces = divide_into_sentences_nltk(sherlock_holmes_text)\n",
    "    return senteces\n"
   ]
  },
  {
   "cell_type": "code",
   "execution_count": 14,
   "id": "7a9887c0",
   "metadata": {},
   "outputs": [],
   "source": [
    "# Create a function that will return the vectorizer and final matrix\n",
    "\n",
    "def create_vectorizer(sentences):\n",
    "    vectorizer = CountVectorizer()\n",
    "    X = vectorizer.fit_transform(sentences)\n",
    "    return vectorizer, X"
   ]
  },
  {
   "cell_type": "code",
   "execution_count": 16,
   "id": "601f02c3",
   "metadata": {},
   "outputs": [],
   "source": [
    "sentences = get_sentences('../Chapter01/sherlock_holmes_1.txt')\n",
    "vectorizer, X = create_vectorizer(sentences)"
   ]
  },
  {
   "cell_type": "code",
   "execution_count": 23,
   "id": "1188b0bd",
   "metadata": {},
   "outputs": [
    {
     "name": "stdout",
     "output_type": "stream",
     "text": [
      "  (0, 114)\t1\n",
      "  (0, 99)\t1\n",
      "  (0, 47)\t1\n",
      "  (0, 98)\t1\n",
      "  (0, 54)\t1\n",
      "  (0, 10)\t1\n",
      "  (0, 0)\t1\n",
      "  (0, 124)\t1\n",
      "  (1, 39)\t1\n",
      "  (1, 95)\t1\n",
      "  (1, 41)\t1\n",
      "  (1, 44)\t1\n",
      "  (1, 64)\t1\n",
      "  (1, 42)\t1\n",
      "  (1, 116)\t1\n",
      "  (1, 12)\t1\n",
      "  (1, 79)\t1\n",
      "  (1, 70)\t1\n",
      "  (2, 98)\t1\n",
      "  (2, 42)\t1\n",
      "  (2, 48)\t1\n",
      "  (2, 46)\t1\n",
      "  (2, 29)\t1\n",
      "  (2, 25)\t1\n",
      "  (2, 11)\t1\n",
      "  :\t:\n",
      "  (9, 57)\t1\n",
      "  (9, 15)\t1\n",
      "  (9, 67)\t1\n",
      "  (9, 21)\t1\n",
      "  (9, 107)\t1\n",
      "  (9, 103)\t1\n",
      "  (9, 71)\t1\n",
      "  (10, 114)\t1\n",
      "  (10, 124)\t2\n",
      "  (10, 44)\t1\n",
      "  (10, 11)\t3\n",
      "  (10, 109)\t1\n",
      "  (10, 76)\t1\n",
      "  (10, 119)\t2\n",
      "  (10, 108)\t1\n",
      "  (10, 53)\t1\n",
      "  (10, 4)\t1\n",
      "  (10, 77)\t1\n",
      "  (10, 16)\t1\n",
      "  (10, 127)\t1\n",
      "  (10, 110)\t1\n",
      "  (10, 56)\t1\n",
      "  (10, 24)\t1\n",
      "  (10, 89)\t1\n",
      "  (10, 61)\t1\n"
     ]
    }
   ],
   "source": [
    "# he resulting matrix is a scipy.sparse.csr.csr_matrix object, and the beginning of its printout looks like this:\n",
    "print(X)\n",
    "\n",
    "# first number document number, word number"
   ]
  },
  {
   "cell_type": "code",
   "execution_count": 25,
   "id": "85c83cc4",
   "metadata": {},
   "outputs": [
    {
     "name": "stdout",
     "output_type": "stream",
     "text": [
      "[[1 0 0 ... 0 0 0]\n",
      " [0 0 0 ... 0 0 0]\n",
      " [0 0 0 ... 0 0 0]\n",
      " ...\n",
      " [0 0 0 ... 0 0 0]\n",
      " [0 0 0 ... 0 1 0]\n",
      " [0 0 0 ... 0 0 1]]\n"
     ]
    }
   ],
   "source": [
    "# It can also be turned into a numpy.matrixlib.defmatrix.matrix object, where each sentence is a vector. These sentence vectors can be used our machine learning algorithms later:\n",
    "denseX = X.todense()\n",
    "print(denseX)"
   ]
  },
  {
   "cell_type": "code",
   "execution_count": 26,
   "id": "fbb73ce5",
   "metadata": {},
   "outputs": [
    {
     "name": "stdout",
     "output_type": "stream",
     "text": [
      "11\n",
      "(11, 128)\n"
     ]
    }
   ],
   "source": [
    "print(len(sentences))\n",
    "print(denseX.shape)"
   ]
  },
  {
   "cell_type": "code",
   "execution_count": 28,
   "id": "17645489",
   "metadata": {},
   "outputs": [
    {
     "name": "stdout",
     "output_type": "stream",
     "text": [
      "128\n",
      "['_the_', 'abhorrent', 'actions', 'adjusted', 'adler', 'admirable', 'admirably', 'admit', 'akin', 'all', 'always', 'and', 'any', 'as', 'balanced', 'be', 'but', 'cold', 'crack', 'delicate', 'distracting', 'disturbing', 'doubt', 'drawing', 'dubious', 'eclipses', 'emotion', 'emotions', 'excellent', 'eyes', 'factor', 'false', 'felt', 'finely', 'for', 'from', 'gibe', 'grit', 'has', 'have', 'he', 'heard', 'her', 'high', 'him', 'himself', 'his', 'holmes', 'in', 'instrument', 'into', 'introduce', 'intrusions', 'irene', 'is', 'it', 'late', 'lenses', 'love', 'lover', 'machine', 'memory', 'men', 'mental', 'mention', 'might', 'mind', 'more', 'most', 'motives', 'name', 'nature', 'never', 'not', 'observer', 'observing', 'of', 'one', 'or', 'other', 'own', 'particularly', 'passions', 'perfect', 'placed', 'position', 'power', 'precise', 'predominates', 'questionable', 'reasoner', 'reasoning', 'results', 'save', 'seen', 'seldom', 'sensitive', 'sex', 'she', 'sherlock', 'sneer', 'softer', 'spoke', 'strong', 'such', 'take', 'temperament', 'than', 'that', 'the', 'there', 'they', 'things', 'throw', 'to', 'trained', 'under', 'upon', 'veil', 'was', 'were', 'which', 'whole', 'with', 'woman', 'world', 'would', 'yet']\n"
     ]
    }
   ],
   "source": [
    "print(len(vectorizer.get_feature_names()))\n",
    "print(vectorizer.get_feature_names())"
   ]
  },
  {
   "cell_type": "code",
   "execution_count": 31,
   "id": "2a419113",
   "metadata": {},
   "outputs": [],
   "source": [
    "new_sentence = \"I had seen little of Holmes lately.\"\n",
    "new_sentece_vector = vectorizer.transform([new_sentence])"
   ]
  },
  {
   "cell_type": "code",
   "execution_count": 32,
   "id": "46a56dcd",
   "metadata": {},
   "outputs": [
    {
     "name": "stdout",
     "output_type": "stream",
     "text": [
      "  (0, 47)\t1\n",
      "  (0, 76)\t1\n",
      "  (0, 94)\t1\n",
      "[[0 0 0 0 0 0 0 0 0 0 0 0 0 0 0 0 0 0 0 0 0 0 0 0 0 0 0 0 0 0 0 0 0 0 0 0\n",
      "  0 0 0 0 0 0 0 0 0 0 0 1 0 0 0 0 0 0 0 0 0 0 0 0 0 0 0 0 0 0 0 0 0 0 0 0\n",
      "  0 0 0 0 1 0 0 0 0 0 0 0 0 0 0 0 0 0 0 0 0 0 1 0 0 0 0 0 0 0 0 0 0 0 0 0\n",
      "  0 0 0 0 0 0 0 0 0 0 0 0 0 0 0 0 0 0 0 0]]\n"
     ]
    }
   ],
   "source": [
    "print(new_sentece_vector)\n",
    "print(new_sentece_vector.todense())"
   ]
  },
  {
   "cell_type": "code",
   "execution_count": 41,
   "id": "600eab4c",
   "metadata": {},
   "outputs": [
    {
     "data": {
      "text/plain": [
       "'observing'"
      ]
     },
     "execution_count": 41,
     "metadata": {},
     "output_type": "execute_result"
    }
   ],
   "source": [
    "vectorizer.get_feature_names()[75]"
   ]
  },
  {
   "cell_type": "code",
   "execution_count": 42,
   "id": "c6d5cc6d",
   "metadata": {},
   "outputs": [
    {
     "data": {
      "text/plain": [
       "{'to': 114,\n",
       " 'sherlock': 99,\n",
       " 'holmes': 47,\n",
       " 'she': 98,\n",
       " 'is': 54,\n",
       " 'always': 10,\n",
       " '_the_': 0,\n",
       " 'woman': 124,\n",
       " 'have': 39,\n",
       " 'seldom': 95,\n",
       " 'heard': 41,\n",
       " 'him': 44,\n",
       " 'mention': 64,\n",
       " 'her': 42,\n",
       " 'under': 116,\n",
       " 'any': 12,\n",
       " 'other': 79,\n",
       " 'name': 70,\n",
       " 'in': 48,\n",
       " 'his': 46,\n",
       " 'eyes': 29,\n",
       " 'eclipses': 25,\n",
       " 'and': 11,\n",
       " 'predominates': 88,\n",
       " 'the': 109,\n",
       " 'whole': 122,\n",
       " 'of': 76,\n",
       " 'sex': 97,\n",
       " 'it': 55,\n",
       " 'was': 119,\n",
       " 'not': 73,\n",
       " 'that': 108,\n",
       " 'he': 40,\n",
       " 'felt': 32,\n",
       " 'emotion': 26,\n",
       " 'akin': 8,\n",
       " 'love': 58,\n",
       " 'for': 34,\n",
       " 'irene': 53,\n",
       " 'adler': 4,\n",
       " 'all': 9,\n",
       " 'emotions': 27,\n",
       " 'one': 77,\n",
       " 'particularly': 81,\n",
       " 'were': 120,\n",
       " 'abhorrent': 1,\n",
       " 'cold': 17,\n",
       " 'precise': 87,\n",
       " 'but': 16,\n",
       " 'admirably': 6,\n",
       " 'balanced': 14,\n",
       " 'mind': 66,\n",
       " 'take': 105,\n",
       " 'most': 68,\n",
       " 'perfect': 83,\n",
       " 'reasoning': 91,\n",
       " 'observing': 75,\n",
       " 'machine': 60,\n",
       " 'world': 125,\n",
       " 'has': 38,\n",
       " 'seen': 94,\n",
       " 'as': 13,\n",
       " 'lover': 59,\n",
       " 'would': 126,\n",
       " 'placed': 84,\n",
       " 'himself': 45,\n",
       " 'false': 31,\n",
       " 'position': 85,\n",
       " 'never': 72,\n",
       " 'spoke': 102,\n",
       " 'softer': 101,\n",
       " 'passions': 82,\n",
       " 'save': 93,\n",
       " 'with': 123,\n",
       " 'gibe': 36,\n",
       " 'sneer': 100,\n",
       " 'they': 111,\n",
       " 'admirable': 5,\n",
       " 'things': 112,\n",
       " 'observer': 74,\n",
       " 'excellent': 28,\n",
       " 'drawing': 23,\n",
       " 'veil': 118,\n",
       " 'from': 35,\n",
       " 'men': 62,\n",
       " 'motives': 69,\n",
       " 'actions': 2,\n",
       " 'trained': 115,\n",
       " 'reasoner': 90,\n",
       " 'admit': 7,\n",
       " 'such': 104,\n",
       " 'intrusions': 52,\n",
       " 'into': 50,\n",
       " 'own': 80,\n",
       " 'delicate': 19,\n",
       " 'finely': 33,\n",
       " 'adjusted': 3,\n",
       " 'temperament': 106,\n",
       " 'introduce': 51,\n",
       " 'distracting': 20,\n",
       " 'factor': 30,\n",
       " 'which': 121,\n",
       " 'might': 65,\n",
       " 'throw': 113,\n",
       " 'doubt': 22,\n",
       " 'upon': 117,\n",
       " 'mental': 63,\n",
       " 'results': 92,\n",
       " 'grit': 37,\n",
       " 'sensitive': 96,\n",
       " 'instrument': 49,\n",
       " 'or': 78,\n",
       " 'crack': 18,\n",
       " 'high': 43,\n",
       " 'power': 86,\n",
       " 'lenses': 57,\n",
       " 'be': 15,\n",
       " 'more': 67,\n",
       " 'disturbing': 21,\n",
       " 'than': 107,\n",
       " 'strong': 103,\n",
       " 'nature': 71,\n",
       " 'yet': 127,\n",
       " 'there': 110,\n",
       " 'late': 56,\n",
       " 'dubious': 24,\n",
       " 'questionable': 89,\n",
       " 'memory': 61}"
      ]
     },
     "execution_count": 42,
     "metadata": {},
     "output_type": "execute_result"
    }
   ],
   "source": [
    "vectorizer.vocabulary_"
   ]
  },
  {
   "cell_type": "code",
   "execution_count": 43,
   "id": "14d3a83b",
   "metadata": {},
   "outputs": [],
   "source": [
    "## Vectorizer with stopwords removal\n",
    "\n",
    "vectorizer = CountVectorizer(stop_words='english')"
   ]
  },
  {
   "cell_type": "code",
   "execution_count": 44,
   "id": "ed3dbce4",
   "metadata": {},
   "outputs": [],
   "source": [
    "X = vectorizer.fit_transform(sentences)"
   ]
  },
  {
   "cell_type": "code",
   "execution_count": 46,
   "id": "b3d599ce",
   "metadata": {},
   "outputs": [
    {
     "name": "stdout",
     "output_type": "stream",
     "text": [
      "79\n",
      "['_the_', 'abhorrent', 'actions', 'adjusted', 'adler', 'admirable', 'admirably', 'admit', 'akin', 'balanced', 'cold', 'crack', 'delicate', 'distracting', 'disturbing', 'doubt', 'drawing', 'dubious', 'eclipses', 'emotion', 'emotions', 'excellent', 'eyes', 'factor', 'false', 'felt', 'finely', 'gibe', 'grit', 'heard', 'high', 'holmes', 'instrument', 'introduce', 'intrusions', 'irene', 'late', 'lenses', 'love', 'lover', 'machine', 'memory', 'men', 'mental', 'mention', 'mind', 'motives', 'nature', 'observer', 'observing', 'particularly', 'passions', 'perfect', 'placed', 'position', 'power', 'precise', 'predominates', 'questionable', 'reasoner', 'reasoning', 'results', 'save', 'seen', 'seldom', 'sensitive', 'sex', 'sherlock', 'sneer', 'softer', 'spoke', 'strong', 'temperament', 'things', 'throw', 'trained', 'veil', 'woman', 'world']\n"
     ]
    }
   ],
   "source": [
    "print(len(vectorizer.get_feature_names()))\n",
    "print(vectorizer.get_feature_names())"
   ]
  },
  {
   "cell_type": "code",
   "execution_count": 47,
   "id": "03073ff8",
   "metadata": {},
   "outputs": [],
   "source": [
    "new_sentence = \"And yet there was but one woman to him, and that woman was the late Irene Adler, of dubious and questionable memory.\""
   ]
  },
  {
   "cell_type": "code",
   "execution_count": 49,
   "id": "e86f28d7",
   "metadata": {},
   "outputs": [
    {
     "name": "stdout",
     "output_type": "stream",
     "text": [
      "['woman', 'woman', 'late', 'irene', 'adler', 'dubious', 'questionable', 'memory']\n"
     ]
    }
   ],
   "source": [
    "new_sentence_vector = vectorizer.transform([new_sentence])\n",
    "analyse = vectorizer.build_analyzer()\n",
    "print(analyse(new_sentence))"
   ]
  },
  {
   "cell_type": "code",
   "execution_count": 51,
   "id": "23bef6a7",
   "metadata": {},
   "outputs": [
    {
     "name": "stdout",
     "output_type": "stream",
     "text": [
      "  (0, 4)\t1\n",
      "  (0, 17)\t1\n",
      "  (0, 35)\t1\n",
      "  (0, 36)\t1\n",
      "  (0, 41)\t1\n",
      "  (0, 58)\t1\n",
      "  (0, 77)\t2\n"
     ]
    }
   ],
   "source": [
    "print(new_sentence_vector)"
   ]
  },
  {
   "cell_type": "code",
   "execution_count": 53,
   "id": "d6d5e787",
   "metadata": {},
   "outputs": [],
   "source": [
    "# if any word is present more than 80%  on the document we will ignore\n",
    "vectorizer = CountVectorizer(max_df=0.8)"
   ]
  },
  {
   "cell_type": "code",
   "execution_count": 55,
   "id": "575c0387",
   "metadata": {},
   "outputs": [],
   "source": [
    "new_sentence_vector = vectorizer.fit_transform(sentences)"
   ]
  },
  {
   "cell_type": "code",
   "execution_count": 56,
   "id": "f0721839",
   "metadata": {},
   "outputs": [
    {
     "data": {
      "text/plain": [
       "128"
      ]
     },
     "execution_count": 56,
     "metadata": {},
     "output_type": "execute_result"
    }
   ],
   "source": [
    "len(vectorizer.get_feature_names())"
   ]
  },
  {
   "cell_type": "markdown",
   "id": "72501754",
   "metadata": {},
   "source": [
    "# Constructing the N-gram model\n",
    "\n",
    "* Representing a document as a bag of words is useful, but semantics is about more than just words in isolation. \n",
    "\n",
    "\n",
    "* To capture word combinations, an n-gram model is useful. Its vocabulary consists not just of words, but word sequences, or n-grams."
   ]
  },
  {
   "cell_type": "code",
   "execution_count": 59,
   "id": "e339df12",
   "metadata": {},
   "outputs": [],
   "source": [
    "from sklearn.feature_extraction.text import CountVectorizer\n",
    "from Chapter01.dividing_into_sentences import read_text_file, preprocess_text, divide_into_sentences_nltk\n",
    "from Chapter03.bag_of_words_1 import get_sentences, get_new_sentences_vector"
   ]
  },
  {
   "cell_type": "code",
   "execution_count": 61,
   "id": "7e5c7774",
   "metadata": {},
   "outputs": [],
   "source": [
    "sentences = get_sentences('../Chapter01/sherlock_holmes_1.txt')"
   ]
  },
  {
   "cell_type": "code",
   "execution_count": 64,
   "id": "37467da3",
   "metadata": {},
   "outputs": [],
   "source": [
    "bigram_vectorizer = CountVectorizer(ngram_range = (1, 2))"
   ]
  },
  {
   "cell_type": "code",
   "execution_count": 67,
   "id": "b65fb772",
   "metadata": {},
   "outputs": [
    {
     "name": "stdout",
     "output_type": "stream",
     "text": [
      "  (0, 269)\t1\n",
      "  (0, 229)\t1\n",
      "  (0, 118)\t1\n",
      "  (0, 226)\t1\n",
      "  (0, 136)\t1\n",
      "  (0, 20)\t1\n",
      "  (0, 0)\t1\n",
      "  (0, 299)\t1\n",
      "  (0, 275)\t1\n",
      "  (0, 230)\t1\n",
      "  (0, 119)\t1\n",
      "  (0, 228)\t1\n",
      "  (0, 137)\t1\n",
      "  (0, 21)\t1\n",
      "  (0, 1)\t1\n",
      "  (1, 93)\t1\n",
      "  (1, 221)\t1\n",
      "  (1, 101)\t1\n",
      "  (1, 108)\t1\n",
      "  (1, 156)\t1\n",
      "  (1, 103)\t1\n",
      "  (1, 278)\t1\n",
      "  (1, 31)\t1\n",
      "  (1, 190)\t1\n",
      "  (1, 167)\t1\n",
      "  :\t:\n",
      "  (10, 307)\t1\n",
      "  (10, 261)\t1\n",
      "  (10, 141)\t1\n",
      "  (10, 60)\t1\n",
      "  (10, 210)\t1\n",
      "  (10, 151)\t1\n",
      "  (10, 30)\t1\n",
      "  (10, 308)\t1\n",
      "  (10, 262)\t1\n",
      "  (10, 285)\t1\n",
      "  (10, 45)\t1\n",
      "  (10, 187)\t1\n",
      "  (10, 300)\t1\n",
      "  (10, 271)\t1\n",
      "  (10, 109)\t1\n",
      "  (10, 251)\t1\n",
      "  (10, 301)\t1\n",
      "  (10, 288)\t1\n",
      "  (10, 253)\t1\n",
      "  (10, 142)\t1\n",
      "  (10, 8)\t1\n",
      "  (10, 180)\t1\n",
      "  (10, 61)\t1\n",
      "  (10, 27)\t1\n",
      "  (10, 211)\t1\n"
     ]
    }
   ],
   "source": [
    "X = bigram_vectorizer.fit_transform(sentences)\n",
    "print(X)"
   ]
  },
  {
   "cell_type": "code",
   "execution_count": 68,
   "id": "5f31dd46",
   "metadata": {},
   "outputs": [
    {
     "name": "stdout",
     "output_type": "stream",
     "text": [
      "[[1 1 0 ... 0 0 0]\n",
      " [0 0 0 ... 0 0 0]\n",
      " [0 0 0 ... 0 0 0]\n",
      " ...\n",
      " [0 0 0 ... 0 0 0]\n",
      " [0 0 0 ... 1 0 0]\n",
      " [0 0 0 ... 0 1 1]]\n"
     ]
    }
   ],
   "source": [
    "denseX = X.todense()\n",
    "print(denseX)"
   ]
  },
  {
   "cell_type": "code",
   "execution_count": 69,
   "id": "01185233",
   "metadata": {},
   "outputs": [
    {
     "name": "stdout",
     "output_type": "stream",
     "text": [
      "['_the_', '_the_ woman', 'abhorrent', 'abhorrent to', 'actions', 'adjusted', 'adjusted temperament', 'adler', 'adler of', 'admirable', 'admirable things', 'admirably', 'admirably balanced', 'admit', 'admit such', 'akin', 'akin to', 'all', 'all emotions', 'all his', 'always', 'always _the_', 'and', 'and actions', 'and finely', 'and observing', 'and predominates', 'and questionable', 'and sneer', 'and that', 'and yet', 'any', 'any emotion', 'any other', 'as', 'as his', 'as lover', 'balanced', 'balanced mind', 'be', 'be more', 'but', 'but admirably', 'but as', 'but for', 'but one', 'cold', 'cold precise', 'crack', 'crack in', 'delicate', 'delicate and', 'distracting', 'distracting factor', 'disturbing', 'disturbing than', 'doubt', 'doubt upon', 'drawing', 'drawing the', 'dubious', 'dubious and', 'eclipses', 'eclipses and', 'emotion', 'emotion akin', 'emotion in', 'emotions', 'emotions and', 'excellent', 'excellent for', 'eyes', 'eyes she', 'factor', 'factor which', 'false', 'false position', 'felt', 'felt any', 'finely', 'finely adjusted', 'for', 'for drawing', 'for irene', 'for the', 'from', 'from men', 'gibe', 'gibe and', 'grit', 'grit in', 'has', 'has seen', 'have', 'have placed', 'have seldom', 'he', 'he felt', 'he never', 'he was', 'he would', 'heard', 'heard him', 'her', 'her sex', 'her under', 'high', 'high power', 'him', 'him and', 'him mention', 'himself', 'himself in', 'his', 'his cold', 'his eyes', 'his mental', 'his own', 'holmes', 'holmes she', 'in', 'in false', 'in his', 'in nature', 'in one', 'in sensitive', 'instrument', 'instrument or', 'into', 'into his', 'introduce', 'introduce distracting', 'intrusions', 'intrusions into', 'irene', 'irene adler', 'is', 'is always', 'it', 'it the', 'it was', 'late', 'late irene', 'lenses', 'lenses would', 'love', 'love for', 'lover', 'lover he', 'machine', 'machine that', 'memory', 'men', 'men motives', 'mental', 'mental results', 'mention', 'mention her', 'might', 'might throw', 'mind', 'more', 'more disturbing', 'most', 'most perfect', 'motives', 'motives and', 'name', 'nature', 'nature such', 'never', 'never spoke', 'not', 'not be', 'not that', 'observer', 'observer excellent', 'observing', 'observing machine', 'of', 'of dubious', 'of her', 'of his', 'of the', 'one', 'one of', 'one particularly', 'one woman', 'or', 'or crack', 'other', 'other name', 'own', 'own delicate', 'own high', 'particularly', 'particularly were', 'passions', 'passions save', 'perfect', 'perfect reasoning', 'placed', 'placed himself', 'position', 'power', 'power lenses', 'precise', 'precise but', 'predominates', 'predominates the', 'questionable', 'questionable memory', 'reasoner', 'reasoner to', 'reasoning', 'reasoning and', 'results', 'save', 'save with', 'seen', 'seen but', 'seldom', 'seldom heard', 'sensitive', 'sensitive instrument', 'sex', 'she', 'she eclipses', 'she is', 'sherlock', 'sherlock holmes', 'sneer', 'softer', 'softer passions', 'spoke', 'spoke of', 'strong', 'strong emotion', 'such', 'such as', 'such intrusions', 'take', 'take it', 'temperament', 'temperament was', 'than', 'than strong', 'that', 'that he', 'that one', 'that the', 'that woman', 'the', 'the late', 'the most', 'the observer', 'the softer', 'the trained', 'the veil', 'the whole', 'the world', 'there', 'there was', 'they', 'they were', 'things', 'things for', 'throw', 'throw doubt', 'to', 'to admit', 'to him', 'to his', 'to introduce', 'to love', 'to sherlock', 'trained', 'trained reasoner', 'under', 'under any', 'upon', 'upon all', 'veil', 'veil from', 'was', 'was but', 'was not', 'was take', 'was the', 'was to', 'were', 'were abhorrent', 'were admirable', 'which', 'which might', 'whole', 'whole of', 'with', 'with gibe', 'woman', 'woman to', 'woman was', 'world', 'world has', 'would', 'would have', 'would not', 'yet', 'yet there']\n"
     ]
    }
   ],
   "source": [
    "print(bigram_vectorizer.get_feature_names())"
   ]
  },
  {
   "cell_type": "code",
   "execution_count": 70,
   "id": "ced1c9b4",
   "metadata": {},
   "outputs": [
    {
     "name": "stdout",
     "output_type": "stream",
     "text": [
      "309\n"
     ]
    }
   ],
   "source": [
    "print(len(bigram_vectorizer.get_feature_names()))"
   ]
  },
  {
   "cell_type": "code",
   "execution_count": 71,
   "id": "707db88a",
   "metadata": {},
   "outputs": [],
   "source": [
    "new_sentence = \"I had seen little of Holmes lately.\"\n",
    "new_sentece_vector = bigram_vectorizer.transform([new_sentence])"
   ]
  },
  {
   "cell_type": "code",
   "execution_count": 72,
   "id": "76ade08f",
   "metadata": {},
   "outputs": [
    {
     "name": "stdout",
     "output_type": "stream",
     "text": [
      "  (0, 114)\t1\n",
      "  (0, 99)\t1\n",
      "  (0, 47)\t1\n",
      "  (0, 98)\t1\n",
      "  (0, 54)\t1\n",
      "  (0, 10)\t1\n",
      "  (0, 0)\t1\n",
      "  (0, 124)\t1\n",
      "  (1, 39)\t1\n",
      "  (1, 95)\t1\n",
      "  (1, 41)\t1\n",
      "  (1, 44)\t1\n",
      "  (1, 64)\t1\n",
      "  (1, 42)\t1\n",
      "  (1, 116)\t1\n",
      "  (1, 12)\t1\n",
      "  (1, 79)\t1\n",
      "  (1, 70)\t1\n",
      "  (2, 98)\t1\n",
      "  (2, 42)\t1\n",
      "  (2, 48)\t1\n",
      "  (2, 46)\t1\n",
      "  (2, 29)\t1\n",
      "  (2, 25)\t1\n",
      "  (2, 11)\t1\n",
      "  :\t:\n",
      "  (9, 57)\t1\n",
      "  (9, 15)\t1\n",
      "  (9, 67)\t1\n",
      "  (9, 21)\t1\n",
      "  (9, 107)\t1\n",
      "  (9, 103)\t1\n",
      "  (9, 71)\t1\n",
      "  (10, 114)\t1\n",
      "  (10, 124)\t2\n",
      "  (10, 44)\t1\n",
      "  (10, 11)\t3\n",
      "  (10, 109)\t1\n",
      "  (10, 76)\t1\n",
      "  (10, 119)\t2\n",
      "  (10, 108)\t1\n",
      "  (10, 53)\t1\n",
      "  (10, 4)\t1\n",
      "  (10, 77)\t1\n",
      "  (10, 16)\t1\n",
      "  (10, 127)\t1\n",
      "  (10, 110)\t1\n",
      "  (10, 56)\t1\n",
      "  (10, 24)\t1\n",
      "  (10, 89)\t1\n",
      "  (10, 61)\t1\n",
      "[[0 0 0 0 0 0 0 0 0 0 0 0 0 0 0 0 0 0 0 0 0 0 0 0 0 0 0 0 0 0 0 0 0 0 0 0\n",
      "  0 0 0 0 0 0 0 0 0 0 0 0 0 0 0 0 0 0 0 0 0 0 0 0 0 0 0 0 0 0 0 0 0 0 0 0\n",
      "  0 0 0 0 0 0 0 0 0 0 0 0 0 0 0 0 0 0 0 0 0 0 0 0 0 0 0 0 0 0 0 0 0 0 0 0\n",
      "  0 0 0 0 0 0 0 0 0 0 1 0 0 0 0 0 0 0 0 0 0 0 0 0 0 0 0 0 0 0 0 0 0 0 0 0\n",
      "  0 0 0 0 0 0 0 0 0 0 0 0 0 0 0 0 0 0 0 0 0 0 0 0 0 0 0 0 0 0 0 0 0 0 0 1\n",
      "  0 0 0 0 0 0 0 0 0 0 0 0 0 0 0 0 0 0 0 0 0 0 0 0 0 0 0 0 0 0 0 0 0 0 0 0\n",
      "  0 0 0 1 0 0 0 0 0 0 0 0 0 0 0 0 0 0 0 0 0 0 0 0 0 0 0 0 0 0 0 0 0 0 0 0\n",
      "  0 0 0 0 0 0 0 0 0 0 0 0 0 0 0 0 0 0 0 0 0 0 0 0 0 0 0 0 0 0 0 0 0 0 0 0\n",
      "  0 0 0 0 0 0 0 0 0 0 0 0 0 0 0 0 0 0 0 0 0]]\n"
     ]
    }
   ],
   "source": [
    "print(new_sentence_vector)\n",
    "print(new_sentece_vector.todense())"
   ]
  },
  {
   "cell_type": "code",
   "execution_count": 73,
   "id": "1749796b",
   "metadata": {},
   "outputs": [],
   "source": [
    "new_sentence1 = \" And yet there was but one woman to him, and that woman was the late Irene Adler, of dubious and questionable memory.\"\n",
    "new_sentence_vector1 = vectorizer.transform([new_sentence])"
   ]
  },
  {
   "cell_type": "code",
   "execution_count": 74,
   "id": "e3f6bd14",
   "metadata": {},
   "outputs": [
    {
     "name": "stdout",
     "output_type": "stream",
     "text": [
      "  (0, 47)\t1\n",
      "  (0, 76)\t1\n",
      "  (0, 94)\t1\n",
      "[[0 0 0 0 0 0 0 0 0 0 0 0 0 0 0 0 0 0 0 0 0 0 0 0 0 0 0 0 0 0 0 0 0 0 0 0\n",
      "  0 0 0 0 0 0 0 0 0 0 0 1 0 0 0 0 0 0 0 0 0 0 0 0 0 0 0 0 0 0 0 0 0 0 0 0\n",
      "  0 0 0 0 1 0 0 0 0 0 0 0 0 0 0 0 0 0 0 0 0 0 1 0 0 0 0 0 0 0 0 0 0 0 0 0\n",
      "  0 0 0 0 0 0 0 0 0 0 0 0 0 0 0 0 0 0 0 0]]\n"
     ]
    }
   ],
   "source": [
    "print(new_sentence_vector1)\n",
    "print(new_sentence_vector1.todense())"
   ]
  },
  {
   "cell_type": "markdown",
   "id": "aab94f71",
   "metadata": {},
   "source": [
    "# Representing texts with TF-IDF\n",
    "\n",
    "* TF-IDF stands for term frequency-inverse document frequency and gives more weight to words that are unique to a document than to words that are frequent,but repeated throughout most documents. \n",
    "\n",
    "\n",
    "* This allows us to give more weight to words uniquely characteristic to particular documents. \n",
    "\n",
    "\n",
    "* https://scikit-learn.org/stable/modules/feature_extraction.html#tfidf-term-weighting.\n",
    "\n",
    "\n",
    "* The TfidfVectorizer class allows for all the functionality of CountVectorizer, except that it uses the TF-IDF algorithm to count the words instead of direct counts. The other features of the class should be familiar. "
   ]
  },
  {
   "cell_type": "code",
   "execution_count": 76,
   "id": "a9d5c318",
   "metadata": {},
   "outputs": [],
   "source": [
    "import nltk\n",
    "import string\n",
    "from sklearn.feature_extraction.text import TfidfVectorizer\n",
    "from nltk.stem.snowball import SnowballStemmer"
   ]
  },
  {
   "cell_type": "code",
   "execution_count": 77,
   "id": "22e1a6af",
   "metadata": {},
   "outputs": [],
   "source": [
    "stemmer = SnowballStemmer('english')"
   ]
  },
  {
   "cell_type": "code",
   "execution_count": 78,
   "id": "1471aa3e",
   "metadata": {},
   "outputs": [],
   "source": [
    "sentences = get_sentences('../Chapter01/sherlock_holmes_1.txt')"
   ]
  },
  {
   "cell_type": "code",
   "execution_count": 80,
   "id": "e760fec4",
   "metadata": {},
   "outputs": [],
   "source": [
    "from nltk.corpus import stopwords"
   ]
  },
  {
   "cell_type": "code",
   "execution_count": 86,
   "id": "5fa62fe7",
   "metadata": {},
   "outputs": [],
   "source": [
    "stop_words = stopwords.words('english')"
   ]
  },
  {
   "cell_type": "code",
   "execution_count": 89,
   "id": "f4e51f42",
   "metadata": {},
   "outputs": [],
   "source": [
    "def tokenize_and_stem(sentences):\n",
    "    tokens = nltk.word_tokenize(sentences)\n",
    "    filtered_token = [t for t in tokens if t not in string.punctuation]\n",
    "    stems = [stemmer.stem(t) for t in filtered_token]\n",
    "    return stems"
   ]
  },
  {
   "cell_type": "code",
   "execution_count": 90,
   "id": "b16b936f",
   "metadata": {},
   "outputs": [],
   "source": [
    "all_stopwords = stop_words + [tokenize_and_stem(stop_word)[0] for stop_word in stop_words]"
   ]
  },
  {
   "cell_type": "code",
   "execution_count": 95,
   "id": "50098045",
   "metadata": {},
   "outputs": [],
   "source": [
    "tfidf_vectorizer = TfidfVectorizer(max_df = 0.9, max_features = 200000,\n",
    "                                  min_df = 0.05, stop_words=all_stopwords,\n",
    "                                  use_idf=True, tokenizer=tokenize_and_stem,\n",
    "                                  ngram_range=(1, 3))"
   ]
  },
  {
   "cell_type": "code",
   "execution_count": 96,
   "id": "56cc448e",
   "metadata": {},
   "outputs": [
    {
     "name": "stderr",
     "output_type": "stream",
     "text": [
      "/Users/bat/miniconda3/lib/python3.8/site-packages/sklearn/feature_extraction/text.py:484: UserWarning: The parameter 'token_pattern' will not be used since 'tokenizer' is not None'\n",
      "  warnings.warn(\"The parameter 'token_pattern' will not be used\"\n",
      "/Users/bat/miniconda3/lib/python3.8/site-packages/sklearn/feature_extraction/text.py:383: UserWarning: Your stop_words may be inconsistent with your preprocessing. Tokenizing the stop words generated tokens [\"'d\", \"'s\", \"n't\"] not in stop_words.\n",
      "  warnings.warn('Your stop_words may be inconsistent with '\n"
     ]
    }
   ],
   "source": [
    "tfidf_vectorizer = tfidf_vectorizer.fit(sentences)"
   ]
  },
  {
   "cell_type": "code",
   "execution_count": 97,
   "id": "51d876c6",
   "metadata": {},
   "outputs": [
    {
     "name": "stdout",
     "output_type": "stream",
     "text": [
      "  (0, 221)\t0.24956605786128022\n",
      "  (0, 187)\t0.2919708551400885\n",
      "  (0, 186)\t0.2919708551400885\n",
      "  (0, 185)\t0.2919708551400885\n",
      "  (0, 88)\t0.2919708551400885\n",
      "  (0, 87)\t0.2919708551400885\n",
      "  (0, 86)\t0.2919708551400885\n",
      "  (0, 25)\t0.2919708551400885\n",
      "  (0, 24)\t0.2919708551400885\n",
      "  (0, 23)\t0.2919708551400885\n",
      "  (0, 1)\t0.2919708551400885\n",
      "  (0, 0)\t0.2919708551400885\n",
      "  (1, 180)\t0.3333333333333333\n",
      "  (1, 179)\t0.3333333333333333\n",
      "  (1, 178)\t0.3333333333333333\n",
      "  (1, 127)\t0.3333333333333333\n",
      "  (1, 123)\t0.3333333333333333\n",
      "  (1, 122)\t0.3333333333333333\n",
      "  (1, 82)\t0.3333333333333333\n",
      "  (1, 81)\t0.3333333333333333\n",
      "  (1, 80)\t0.3333333333333333\n",
      "  (2, 220)\t0.28867513459481287\n",
      "  (2, 219)\t0.28867513459481287\n",
      "  (2, 184)\t0.28867513459481287\n",
      "  (2, 163)\t0.28867513459481287\n",
      "  :\t:\n",
      "  (10, 230)\t0.19360286426407214\n",
      "  (10, 229)\t0.19360286426407214\n",
      "  (10, 225)\t0.19360286426407214\n",
      "  (10, 224)\t0.19360286426407214\n",
      "  (10, 223)\t0.19360286426407214\n",
      "  (10, 222)\t0.19360286426407214\n",
      "  (10, 221)\t0.33096936063604365\n",
      "  (10, 165)\t0.19360286426407214\n",
      "  (10, 164)\t0.19360286426407214\n",
      "  (10, 144)\t0.19360286426407214\n",
      "  (10, 143)\t0.19360286426407214\n",
      "  (10, 138)\t0.14553451131600192\n",
      "  (10, 116)\t0.19360286426407214\n",
      "  (10, 103)\t0.19360286426407214\n",
      "  (10, 102)\t0.19360286426407214\n",
      "  (10, 101)\t0.19360286426407214\n",
      "  (10, 100)\t0.19360286426407214\n",
      "  (10, 99)\t0.16548468031802183\n",
      "  (10, 98)\t0.16548468031802183\n",
      "  (10, 51)\t0.19360286426407214\n",
      "  (10, 50)\t0.19360286426407214\n",
      "  (10, 49)\t0.19360286426407214\n",
      "  (10, 11)\t0.19360286426407214\n",
      "  (10, 10)\t0.19360286426407214\n",
      "  (10, 9)\t0.16548468031802183\n"
     ]
    }
   ],
   "source": [
    "tf_idf_matrix = tfidf_vectorizer.transform(sentences)\n",
    "print(tf_idf_matrix)"
   ]
  },
  {
   "cell_type": "code",
   "execution_count": 99,
   "id": "c1b86e12",
   "metadata": {},
   "outputs": [
    {
     "data": {
      "text/plain": [
       "matrix([[0.29197086, 0.29197086, 0.        , ..., 0.        , 0.        ,\n",
       "         0.        ],\n",
       "        [0.        , 0.        , 0.        , ..., 0.        , 0.        ,\n",
       "         0.        ],\n",
       "        [0.        , 0.        , 0.        , ..., 0.        , 0.        ,\n",
       "         0.        ],\n",
       "        ...,\n",
       "        [0.        , 0.        , 0.        , ..., 0.        , 0.        ,\n",
       "         0.        ],\n",
       "        [0.        , 0.        , 0.        , ..., 0.        , 0.        ,\n",
       "         0.        ],\n",
       "        [0.        , 0.        , 0.        , ..., 0.        , 0.        ,\n",
       "         0.        ]])"
      ]
     },
     "execution_count": 99,
     "metadata": {},
     "output_type": "execute_result"
    }
   ],
   "source": [
    "dense_matrix = tf_idf_matrix.todense()\n",
    "dense_matrix"
   ]
  },
  {
   "cell_type": "code",
   "execution_count": 100,
   "id": "b6ccaa33",
   "metadata": {},
   "outputs": [
    {
     "name": "stdout",
     "output_type": "stream",
     "text": [
      "['_the_', '_the_ woman', 'abhorr', 'abhorr cold', 'abhorr cold precis', 'action', 'adjust', 'adjust tempera', 'adjust tempera introduc', 'adler', 'adler dubious', 'adler dubious question', 'admir', 'admir balanc', 'admir balanc mind', 'admir thing', 'admir thing observer—excel', 'admit', 'admit intrus', 'admit intrus delic', 'akin', 'akin love', 'akin love iren', 'alway', 'alway _the_', 'alway _the_ woman', 'balanc', 'balanc mind', 'cold', 'cold precis', 'cold precis admir', 'crack', 'crack one', 'crack one high-pow', 'delic', 'delic fine', 'delic fine adjust', 'distract', 'distract factor', 'distract factor throw', 'disturb', 'disturb strong', 'disturb strong emot', 'doubt', 'doubt upon', 'doubt upon mental', 'draw', 'draw veil', 'draw veil men', 'dubious', 'dubious question', 'dubious question memori', 'eclips', 'eclips predomin', 'eclips predomin whole', 'emot', 'emot akin', 'emot akin love', 'emot natur', 'emot one', 'emot one particular', 'eye', 'eye eclips', 'eye eclips predomin', 'factor', 'factor throw', 'factor throw doubt', 'fals', 'fals posit', 'felt', 'felt emot', 'felt emot akin', 'fine', 'fine adjust', 'fine adjust tempera', 'gibe', 'gibe sneer', 'grit', 'grit sensit', 'grit sensit instrument', 'heard', 'heard mention', 'heard mention name', 'high-pow', 'high-pow lens', 'high-pow lens disturb', 'holm', 'holm alway', 'holm alway _the_', 'instrument', 'instrument crack', 'instrument crack one', 'introduc', 'introduc distract', 'introduc distract factor', 'intrus', 'intrus delic', 'intrus delic fine', 'iren', 'iren adler', 'iren adler dubious', 'late', 'late iren', 'late iren adler', 'lens', 'lens disturb', 'lens disturb strong', 'love', 'love iren', 'love iren adler', 'lover', 'lover place', 'lover place fals', 'machin', 'machin world', 'machin world seen', 'memori', 'men', 'men ’', 'men ’ motiv', 'mental', 'mental result', 'mention', 'mention name', 'mind', 'motiv', 'motiv action', 'name', 'natur', 'never', 'never spoke', 'never spoke softer', 'observ', 'observ machin', 'observ machin world', 'observer—excel', 'observer—excel draw', 'observer—excel draw veil', 'one', 'one high-pow', 'one high-pow lens', 'one particular', 'one particular abhorr', 'one woman', 'one woman woman', 'particular', 'particular abhorr', 'particular abhorr cold', 'passion', 'passion save', 'passion save gibe', 'perfect', 'perfect reason', 'perfect reason observ', 'place', 'place fals', 'place fals posit', 'posit', 'precis', 'precis admir', 'precis admir balanc', 'predomin', 'predomin whole', 'predomin whole sex', 'question', 'question memori', 'reason', 'reason admit', 'reason admit intrus', 'reason observ', 'reason observ machin', 'result', 'save', 'save gibe', 'save gibe sneer', 'seen', 'seen lover', 'seen lover place', 'seldom', 'seldom heard', 'seldom heard mention', 'sensit', 'sensit instrument', 'sensit instrument crack', 'sex', 'sherlock', 'sherlock holm', 'sherlock holm alway', 'sneer', 'softer', 'softer passion', 'softer passion save', 'spoke', 'spoke softer', 'spoke softer passion', 'strong', 'strong emot', 'strong emot natur', 'take', 'take perfect', 'take perfect reason', 'tempera', 'tempera introduc', 'tempera introduc distract', 'thing', 'thing observer—excel', 'thing observer—excel draw', 'throw', 'throw doubt', 'throw doubt upon', 'train', 'train reason', 'train reason admit', 'upon', 'upon mental', 'upon mental result', 'veil', 'veil men', 'veil men ’', 'whole', 'whole sex', 'woman', 'woman late', 'woman late iren', 'woman woman', 'woman woman late', 'world', 'world seen', 'world seen lover', 'yet', 'yet one', 'yet one woman', '’', '’ motiv', '’ motiv action']\n"
     ]
    }
   ],
   "source": [
    "print(tfidf_vectorizer.get_feature_names())"
   ]
  },
  {
   "cell_type": "code",
   "execution_count": 101,
   "id": "07278a0c",
   "metadata": {},
   "outputs": [
    {
     "name": "stdout",
     "output_type": "stream",
     "text": [
      "['sherlock', 'holm', 'alway', '_the_', 'woman', 'sherlock holm', 'holm alway', 'alway _the_', '_the_ woman', 'sherlock holm alway', 'holm alway _the_', 'alway _the_ woman']\n"
     ]
    }
   ],
   "source": [
    "analyze = tfidf_vectorizer.build_analyzer()\n",
    "print(analyze(\"To Sherlock Holmes she is always _the_ woman.\"))"
   ]
  },
  {
   "cell_type": "markdown",
   "id": "228172ea",
   "metadata": {},
   "source": [
    "### Char ngram"
   ]
  },
  {
   "cell_type": "code",
   "execution_count": 102,
   "id": "2474b32a",
   "metadata": {},
   "outputs": [],
   "source": [
    "sentences = get_sentences(\"../Chapter01/sherlock_holmes_1.txt\")"
   ]
  },
  {
   "cell_type": "code",
   "execution_count": 104,
   "id": "88f03c74",
   "metadata": {},
   "outputs": [],
   "source": [
    "tfidf_char_vectorizer = TfidfVectorizer(analyzer = 'char_wb',\n",
    "                                       max_df = 0.9, max_features=200000,\n",
    "                                       min_df=0.05,use_idf=True,\n",
    "                                       ngram_range=(1, 3))\n",
    "\n",
    "tfidf_char_vectorizer = tfidf_char_vectorizer.fit(sentences)"
   ]
  },
  {
   "cell_type": "code",
   "execution_count": 106,
   "id": "73fee92d",
   "metadata": {},
   "outputs": [
    {
     "name": "stdout",
     "output_type": "stream",
     "text": [
      "  (0, 763)\t0.12662434631923655\n",
      "  (0, 762)\t0.12662434631923655\n",
      "  (0, 753)\t0.05840470946313\n",
      "  (0, 745)\t0.10823388151187574\n",
      "  (0, 744)\t0.0850646359499111\n",
      "  (0, 733)\t0.12662434631923655\n",
      "  (0, 731)\t0.07679517427049085\n",
      "  (0, 684)\t0.07679517427049085\n",
      "  (0, 683)\t0.07679517427049085\n",
      "  (0, 675)\t0.05840470946313\n",
      "  (0, 639)\t0.21646776302375148\n",
      "  (0, 638)\t0.21646776302375148\n",
      "  (0, 623)\t0.16087778612557863\n",
      "  (0, 602)\t0.12662434631923655\n",
      "  (0, 600)\t0.09518563907785169\n",
      "  (0, 521)\t0.10823388151187574\n",
      "  (0, 519)\t0.07679517427049085\n",
      "  (0, 518)\t0.12662434631923655\n",
      "  (0, 515)\t0.09518563907785169\n",
      "  (0, 507)\t0.12662434631923655\n",
      "  (0, 506)\t0.12662434631923655\n",
      "  (0, 503)\t0.07679517427049085\n",
      "  (0, 460)\t0.10823388151187574\n",
      "  (0, 459)\t0.10823388151187574\n",
      "  (0, 442)\t0.12662434631923655\n",
      "  :\t:\n",
      "  (10, 102)\t0.10440492924682453\n",
      "  (10, 101)\t0.08607445743804548\n",
      "  (10, 100)\t0.08607445743804548\n",
      "  (10, 99)\t0.11564746590034126\n",
      "  (10, 95)\t0.11564746590034126\n",
      "  (10, 88)\t0.05220246462341226\n",
      "  (10, 87)\t0.10935865461197974\n",
      "  (10, 73)\t0.08607445743804548\n",
      "  (10, 72)\t0.08607445743804548\n",
      "  (10, 62)\t0.06470360935853478\n",
      "  (10, 61)\t0.05782373295017063\n",
      "  (10, 59)\t0.07290576974131983\n",
      "  (10, 52)\t0.05782373295017063\n",
      "  (10, 50)\t0.04333276127902405\n",
      "  (10, 47)\t0.08607445743804548\n",
      "  (10, 46)\t0.05782373295017063\n",
      "  (10, 43)\t0.07357331270292299\n",
      "  (10, 40)\t0.039701319888289746\n",
      "  (10, 38)\t0.04333276127902405\n",
      "  (10, 22)\t0.08607445743804548\n",
      "  (10, 17)\t0.05782373295017063\n",
      "  (10, 13)\t0.05782373295017063\n",
      "  (10, 10)\t0.05220246462341226\n",
      "  (10, 8)\t0.10935865461197974\n",
      "  (10, 5)\t0.05220246462341226\n"
     ]
    }
   ],
   "source": [
    "tfidf_matrix = tfidf_char_vectorizer.transform(sentences)\n",
    "print(tfidf_matrix)"
   ]
  },
  {
   "cell_type": "code",
   "execution_count": 108,
   "id": "aeed7996",
   "metadata": {},
   "outputs": [
    {
     "name": "stdout",
     "output_type": "stream",
     "text": [
      "[[0.12662435 0.12662435 0.         ... 0.         0.         0.        ]\n",
      " [0.         0.         0.         ... 0.         0.         0.        ]\n",
      " [0.         0.         0.         ... 0.         0.         0.        ]\n",
      " ...\n",
      " [0.         0.         0.07119069 ... 0.         0.         0.        ]\n",
      " [0.         0.         0.17252729 ... 0.         0.         0.        ]\n",
      " [0.         0.         0.         ... 0.         0.         0.        ]]\n"
     ]
    }
   ],
   "source": [
    "dense_matrix = tfidf_matrix.todense()\n",
    "print(dense_matrix)"
   ]
  },
  {
   "cell_type": "code",
   "execution_count": 109,
   "id": "5b64bf44",
   "metadata": {},
   "outputs": [
    {
     "name": "stdout",
     "output_type": "stream",
     "text": [
      "[' _', ' _t', ' a ', ' ab', ' ac', ' ad', ' ak', ' al', ' an', ' as', ' b', ' ba', ' be', ' bu', ' c', ' co', ' cr', ' d', ' de', ' di', ' do', ' dr', ' du', ' e', ' ec', ' em', ' ey', ' f', ' fa', ' fe', ' fi', ' fo', ' fr', ' g', ' gi', ' gr', ' ha', ' he', ' hi', ' ho', ' i', ' i ', ' in', ' ir', ' is', ' it', ' l', ' la', ' le', ' lo', ' m', ' ma', ' me', ' mi', ' mo', ' n', ' na', ' ne', ' no', ' o', ' ob', ' of', ' on', ' or', ' ot', ' ow', ' p', ' pa', ' pe', ' pl', ' po', ' pr', ' q', ' qu', ' r', ' re', ' s', ' sa', ' se', ' sh', ' sn', ' so', ' sp', ' st', ' su', ' ta', ' te', ' th', ' to', ' tr', ' u', ' un', ' up', ' v', ' ve', ' wa', ' we', ' wh', ' wi', ' wo', ' y', ' ye', ',', ', ', '-', '-p', '-po', '_', '_ ', '_t', '_th', 'a ', 'ab', 'abh', 'abl', 'ac', 'ace', 'ach', 'ack', 'act', 'ad', 'adj', 'adl', 'adm', 'ai', 'ain', 'ak', 'ake', 'aki', 'al', 'al ', 'ala', 'all', 'als', 'alw', 'am', 'ame', 'an ', 'an.', 'anc', 'and', 'any', 'ar', 'ard', 'arl', 'art', 'as', 'as ', 'as,', 'aso', 'ass', 'at', 'at ', 'ate', 'atu', 'av', 'ave', 'aw', 'awi', 'ay', 'ays', 'b', 'ba', 'bal', 'be', 'be ', 'bh', 'bho', 'bi', 'bin', 'bio', 'bl', 'ble', 'bly', 'bs', 'bse', 'bt', 'bt ', 'bu', 'but', 'c', 'ca', 'cat', 'ce', 'ce ', 'ced', 'cel', 'ch', 'ch ', 'chi', 'ci', 'cis', 'ck', 'ck ', 'cl', 'cli', 'co', 'col', 'cr', 'cra', 'ct', 'ct ', 'cti', 'cto', 'cu', 'cul', 'd ', 'd,', 'd, ', 'd.', 'd. ', 'de', 'del', 'der', 'di', 'dis', 'dj', 'dju', 'dl', 'dle', 'dm', 'dmi', 'do', 'dom', 'dou', 'dr', 'dra', 'du', 'dub', 'duc', 'e.', 'e. ', 'e_', 'e_ ', 'ea', 'ear', 'eas', 'ec', 'eci', 'ecl', 'ect', 'ed', 'ed ', 'edo', 'ee', 'een', 'eer', 'ei', 'eil', 'el', 'eld', 'elf', 'eli', 'ell', 'elt', 'ely', 'em', 'emo', 'emp', 'en', 'en,', 'ene', 'ens', 'ent', 'en’', 'er ', 'er,', 'er.', 'era', 'ere', 'erf', 'erl', 'erv', 'er—', 'es', 'es ', 'es,', 'est', 'esu', 'et', 'et ', 'ev', 'eve', 'ex', 'ex.', 'exc', 'ey', 'ey ', 'eye', 'f', 'f ', 'fa', 'fac', 'fal', 'fe', 'fec', 'fel', 'fi', 'fin', 'fo', 'for', 'fr', 'fro', 'ft', 'fte', 'g', 'g ', 'gh', 'gh-', 'ght', 'gi', 'gib', 'gr', 'gri', 'gs', 'gs ', 'h ', 'h-', 'h-p', 'ha', 'han', 'has', 'hat', 'hav', 'he', 'he ', 'he_', 'hea', 'her', 'hey', 'hi', 'hic', 'hig', 'him', 'hin', 'his', 'ho', 'hol', 'hor', 'hr', 'hro', 'ht', 'ht ', 'i ', 'ib', 'ibe', 'ic', 'ica', 'ich', 'icu', 'ig', 'igh', 'il', 'il ', 'im', 'im ', 'im,', 'ims', 'in', 'in ', 'ina', 'ind', 'ine', 'ing', 'ins', 'int', 'io', 'ion', 'iou', 'ip', 'ips', 'ir', 'ira', 'ire', 'is', 'is ', 'is.', 'ise', 'ist', 'it', 'it ', 'it,', 'ith', 'iti', 'iv', 'ive', 'j', 'ju', 'jus', 'k', 'k ', 'ke', 'ke ', 'ki', 'kin', 'l ', 'la', 'lac', 'lan', 'lar', 'lat', 'ld', 'ld ', 'ld,', 'ldo', 'le', 'le ', 'len', 'ler', 'lf', 'lf ', 'li', 'lic', 'lip', 'll', 'll ', 'lle', 'lm', 'lme', 'lo', 'loc', 'lov', 'ls', 'lse', 'lt', 'lt ', 'lts', 'lw', 'lwa', 'ly', 'ly ', 'ly,', 'm ', 'm,', 'm, ', 'ma', 'mac', 'man', 'me', 'me.', 'mem', 'men', 'mes', 'mi', 'mig', 'min', 'mir', 'mit', 'mo', 'mor', 'mos', 'mot', 'mp', 'mpe', 'ms', 'mse', 'n ', 'n,', 'n, ', 'n.', 'n. ', 'na', 'nab', 'nam', 'nat', 'nc', 'nce', 'nd', 'nd ', 'nd.', 'nde', 'ne', 'ne ', 'ned', 'nee', 'nel', 'ner', 'nev', 'ng', 'ng ', 'ngs', 'ni', 'nin', 'no', 'not', 'ns', 'ns ', 'ns,', 'ns.', 'nse', 'nsi', 'nst', 'nt', 'nt ', 'nt,', 'nta', 'nti', 'nto', 'ntr', 'ny', 'ny ', 'n’', 'n’s', 'o ', 'ob', 'obs', 'oc', 'ock', 'od', 'odu', 'of', 'of ', 'oft', 'ok', 'oke', 'ol', 'old', 'ole', 'olm', 'om', 'om ', 'oma', 'omi', 'on', 'on ', 'on.', 'ona', 'one', 'ong', 'oni', 'ons', 'or', 'or ', 'ore', 'orl', 'orr', 'ory', 'os', 'osi', 'ost', 'ot', 'ot ', 'oth', 'oti', 'ou', 'oub', 'oul', 'ous', 'ov', 'ove', 'ow', 'ow ', 'owe', 'own', 'p', 'pa', 'par', 'pas', 'pe', 'per', 'pl', 'pla', 'po', 'pok', 'pon', 'pos', 'pow', 'pr', 'pre', 'ps', 'pse', 'q', 'qu', 'que', 'r ', 'r,', 'r, ', 'r.', 'r. ', 'ra', 'rab', 'rac', 'rai', 'ram', 'raw', 'rb', 'rbi', 'rd', 'rd ', 're', 're ', 'rea', 'rec', 'red', 'ren', 'res', 'rf', 'rfe', 'ri', 'rit', 'rl', 'rld', 'rlo', 'rly', 'ro', 'rod', 'rom', 'ron', 'row', 'rr', 'rre', 'rt', 'rti', 'ru', 'rum', 'rus', 'rv', 'rve', 'rvi', 'ry', 'ry.', 'r—', 'r—e', 's ', 's,', 's, ', 's.', 's. ', 'sa', 'sav', 'se', 'se ', 'see', 'sel', 'sen', 'ser', 'ses', 'sex', 'sh', 'she', 'si', 'sio', 'sit', 'sn', 'sne', 'so', 'sof', 'son', 'sp', 'spo', 'ss', 'ssi', 'st', 'st ', 'ste', 'sti', 'str', 'stu', 'su', 'suc', 'sul', 't ', 't,', 't, ', 'ta', 'tak', 'tal', 'te', 'te ', 'ted', 'tem', 'ter', 'tes', 'th ', 'tha', 'the', 'thi', 'thr', 'ti', 'tic', 'tin', 'tio', 'tiv', 'to', 'to ', 'tor', 'tr', 'tra', 'tro', 'tru', 'ts', 'ts.', 'tu', 'tur', 'u', 'ub', 'ubi', 'ubt', 'uc', 'uce', 'uch', 'ue', 'ues', 'ul', 'ula', 'uld', 'ult', 'um', 'ume', 'un', 'und', 'up', 'upo', 'ur', 'urb', 'ure', 'us', 'us ', 'usi', 'ust', 'ut', 'ut ', 'v', 've', 've ', 'vei', 'ver', 'ves', 'vi', 'vin', 'w ', 'wa', 'was', 'way', 'we', 'wer', 'wh', 'whi', 'who', 'wi', 'win', 'wit', 'wn', 'wn ', 'wo', 'wom', 'wor', 'wou', 'x', 'x.', 'x. ', 'xc', 'xce', 'y', 'y ', 'y,', 'y, ', 'y.', 'y. ', 'ye', 'yes', 'yet', 'ys', 'ys ', '—', '—e', '—ex', '’', '’s', '’s ']\n"
     ]
    }
   ],
   "source": [
    "print(tfidf_char_vectorizer.get_feature_names())"
   ]
  },
  {
   "cell_type": "code",
   "execution_count": 110,
   "id": "b8d77422",
   "metadata": {},
   "outputs": [
    {
     "name": "stdout",
     "output_type": "stream",
     "text": [
      "[' ', 't', 'o', ' ', ' t', 'to', 'o ', ' to', 'to ', ' ', 's', 'h', 'e', 'r', 'l', 'o', 'c', 'k', ' ', ' s', 'sh', 'he', 'er', 'rl', 'lo', 'oc', 'ck', 'k ', ' sh', 'she', 'her', 'erl', 'rlo', 'loc', 'ock', 'ck ', ' ', 'h', 'o', 'l', 'm', 'e', 's', ' ', ' h', 'ho', 'ol', 'lm', 'me', 'es', 's ', ' ho', 'hol', 'olm', 'lme', 'mes', 'es ', ' ', 's', 'h', 'e', ' ', ' s', 'sh', 'he', 'e ', ' sh', 'she', 'he ', ' ', 'i', 's', ' ', ' i', 'is', 's ', ' is', 'is ', ' ', 'a', 'l', 'w', 'a', 'y', 's', ' ', ' a', 'al', 'lw', 'wa', 'ay', 'ys', 's ', ' al', 'alw', 'lwa', 'way', 'ays', 'ys ', ' ', '_', 't', 'h', 'e', '_', ' ', ' _', '_t', 'th', 'he', 'e_', '_ ', ' _t', '_th', 'the', 'he_', 'e_ ', ' ', 'w', 'o', 'm', 'a', 'n', '.', ' ', ' w', 'wo', 'om', 'ma', 'an', 'n.', '. ', ' wo', 'wom', 'oma', 'man', 'an.', 'n. ']\n"
     ]
    }
   ],
   "source": [
    "analyze = tfidf_char_vectorizer.build_analyzer()\n",
    "print(analyze(\"To Sherlock Holmes she is always _the_ woman.\"))"
   ]
  },
  {
   "cell_type": "code",
   "execution_count": null,
   "id": "7243eaa7",
   "metadata": {},
   "outputs": [],
   "source": []
  }
 ],
 "metadata": {
  "kernelspec": {
   "display_name": "Python 3",
   "language": "python",
   "name": "python3"
  },
  "language_info": {
   "codemirror_mode": {
    "name": "ipython",
    "version": 3
   },
   "file_extension": ".py",
   "mimetype": "text/x-python",
   "name": "python",
   "nbconvert_exporter": "python",
   "pygments_lexer": "ipython3",
   "version": "3.8.8"
  }
 },
 "nbformat": 4,
 "nbformat_minor": 5
}
