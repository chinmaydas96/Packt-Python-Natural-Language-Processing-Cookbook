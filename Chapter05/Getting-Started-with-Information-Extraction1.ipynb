{
 "cells": [
  {
   "cell_type": "markdown",
   "id": "f83f0cce",
   "metadata": {},
   "source": [
    "### Using regular expressions"
   ]
  },
  {
   "cell_type": "code",
   "execution_count": 1,
   "id": "97e33953",
   "metadata": {},
   "outputs": [],
   "source": [
    "# ! pip install pandas python-Levenshtein spacy nltk textblob tqdm transformers -U"
   ]
  },
  {
   "cell_type": "code",
   "execution_count": 2,
   "id": "796f4b4e",
   "metadata": {},
   "outputs": [],
   "source": [
    "import re\n",
    "import pandas as pd\n",
    "data_file = 'DataScientist.csv'"
   ]
  },
  {
   "cell_type": "code",
   "execution_count": 3,
   "id": "53e29d62",
   "metadata": {},
   "outputs": [
    {
     "data": {
      "text/html": [
       "<div>\n",
       "<style scoped>\n",
       "    .dataframe tbody tr th:only-of-type {\n",
       "        vertical-align: middle;\n",
       "    }\n",
       "\n",
       "    .dataframe tbody tr th {\n",
       "        vertical-align: top;\n",
       "    }\n",
       "\n",
       "    .dataframe thead th {\n",
       "        text-align: right;\n",
       "    }\n",
       "</style>\n",
       "<table border=\"1\" class=\"dataframe\">\n",
       "  <thead>\n",
       "    <tr style=\"text-align: right;\">\n",
       "      <th></th>\n",
       "      <th>Unnamed: 0</th>\n",
       "      <th>index</th>\n",
       "      <th>Job Title</th>\n",
       "      <th>Salary Estimate</th>\n",
       "      <th>Job Description</th>\n",
       "      <th>Rating</th>\n",
       "      <th>Company Name</th>\n",
       "      <th>Location</th>\n",
       "      <th>Headquarters</th>\n",
       "      <th>Size</th>\n",
       "      <th>Founded</th>\n",
       "      <th>Type of ownership</th>\n",
       "      <th>Industry</th>\n",
       "      <th>Sector</th>\n",
       "      <th>Revenue</th>\n",
       "      <th>Competitors</th>\n",
       "      <th>Easy Apply</th>\n",
       "    </tr>\n",
       "  </thead>\n",
       "  <tbody>\n",
       "    <tr>\n",
       "      <th>0</th>\n",
       "      <td>0</td>\n",
       "      <td>0</td>\n",
       "      <td>Senior Data Scientist</td>\n",
       "      <td>$111K-$181K (Glassdoor est.)</td>\n",
       "      <td>ABOUT HOPPER\\n\\nAt Hopper, we’re on a mission ...</td>\n",
       "      <td>3.5</td>\n",
       "      <td>Hopper\\n3.5</td>\n",
       "      <td>New York, NY</td>\n",
       "      <td>Montreal, Canada</td>\n",
       "      <td>501 to 1000 employees</td>\n",
       "      <td>2007</td>\n",
       "      <td>Company - Private</td>\n",
       "      <td>Travel Agencies</td>\n",
       "      <td>Travel &amp; Tourism</td>\n",
       "      <td>Unknown / Non-Applicable</td>\n",
       "      <td>-1</td>\n",
       "      <td>-1</td>\n",
       "    </tr>\n",
       "    <tr>\n",
       "      <th>1</th>\n",
       "      <td>1</td>\n",
       "      <td>1</td>\n",
       "      <td>Data Scientist, Product Analytics</td>\n",
       "      <td>$111K-$181K (Glassdoor est.)</td>\n",
       "      <td>At Noom, we use scientifically proven methods ...</td>\n",
       "      <td>4.5</td>\n",
       "      <td>Noom US\\n4.5</td>\n",
       "      <td>New York, NY</td>\n",
       "      <td>New York, NY</td>\n",
       "      <td>1001 to 5000 employees</td>\n",
       "      <td>2008</td>\n",
       "      <td>Company - Private</td>\n",
       "      <td>Health, Beauty, &amp; Fitness</td>\n",
       "      <td>Consumer Services</td>\n",
       "      <td>Unknown / Non-Applicable</td>\n",
       "      <td>-1</td>\n",
       "      <td>-1</td>\n",
       "    </tr>\n",
       "  </tbody>\n",
       "</table>\n",
       "</div>"
      ],
      "text/plain": [
       "   Unnamed: 0  index                          Job Title  \\\n",
       "0           0      0              Senior Data Scientist   \n",
       "1           1      1  Data Scientist, Product Analytics   \n",
       "\n",
       "                Salary Estimate  \\\n",
       "0  $111K-$181K (Glassdoor est.)   \n",
       "1  $111K-$181K (Glassdoor est.)   \n",
       "\n",
       "                                     Job Description  Rating  Company Name  \\\n",
       "0  ABOUT HOPPER\\n\\nAt Hopper, we’re on a mission ...     3.5   Hopper\\n3.5   \n",
       "1  At Noom, we use scientifically proven methods ...     4.5  Noom US\\n4.5   \n",
       "\n",
       "       Location      Headquarters                    Size  Founded  \\\n",
       "0  New York, NY  Montreal, Canada   501 to 1000 employees     2007   \n",
       "1  New York, NY      New York, NY  1001 to 5000 employees     2008   \n",
       "\n",
       "   Type of ownership                   Industry             Sector  \\\n",
       "0  Company - Private            Travel Agencies   Travel & Tourism   \n",
       "1  Company - Private  Health, Beauty, & Fitness  Consumer Services   \n",
       "\n",
       "                    Revenue Competitors Easy Apply  \n",
       "0  Unknown / Non-Applicable          -1         -1  \n",
       "1  Unknown / Non-Applicable          -1         -1  "
      ]
     },
     "execution_count": 3,
     "metadata": {},
     "output_type": "execute_result"
    }
   ],
   "source": [
    "df = pd.read_csv(data_file)\n",
    "df.head(2)"
   ]
  },
  {
   "cell_type": "code",
   "execution_count": 4,
   "id": "1074400b",
   "metadata": {},
   "outputs": [],
   "source": [
    "def get_items(df, regex, column_name):\n",
    "    df[column_name] = df['Job Description'].apply(lambda x:re.findall(regex, x))\n",
    "    return df"
   ]
  },
  {
   "cell_type": "code",
   "execution_count": 5,
   "id": "84b3c515",
   "metadata": {},
   "outputs": [],
   "source": [
    "def get_list_of_items(df, column_name):\n",
    "    items = []\n",
    "    for index, row in df.iterrows():\n",
    "        if len(row[column_name]) > 0:\n",
    "            for item in list(row[column_name]):\n",
    "                if (type(item) is tuple) and (len(item) > 1):\n",
    "                    item = item[0]\n",
    "                if item not in items:\n",
    "                    items.append(item)\n",
    "    return items"
   ]
  },
  {
   "cell_type": "code",
   "execution_count": 6,
   "id": "a66206c5",
   "metadata": {},
   "outputs": [],
   "source": [
    "def get_emails(df):\n",
    "    email_regex = '[^\\s:|()\\']+@[a-zA-Z0-9\\.]+\\.[a-zA-Z]+'\n",
    "    df['emails'] = df['Job Description'].apply(lambda x: re.findall(email_regex, x))\n",
    "    emails = get_list_of_items(df, 'emails')\n",
    "    return emails"
   ]
  },
  {
   "cell_type": "code",
   "execution_count": 7,
   "id": "6f798484",
   "metadata": {},
   "outputs": [],
   "source": [
    "def get_urls(df):\n",
    "    url_regex = '(http[s]?://(www\\.)?[A-Za-z0-9–_\\.\\-]+\\.[A-Za-z]+/?[A-Za-z0-9$\\–_\\-\\/\\.\\?]*)[\\.)\\\"]*'\n",
    "    df = get_items(df, url_regex, 'urls')\n",
    "    urls = get_list_of_items(df, 'urls')\n",
    "    return urls"
   ]
  },
  {
   "cell_type": "code",
   "execution_count": 8,
   "id": "8bf5838c",
   "metadata": {},
   "outputs": [],
   "source": [
    "df = pd.read_csv(data_file, encoding='utf-8')"
   ]
  },
  {
   "cell_type": "code",
   "execution_count": 9,
   "id": "c4aba160",
   "metadata": {},
   "outputs": [
    {
     "name": "stdout",
     "output_type": "stream",
     "text": [
      "['jsmith@quartethealth.com', 'security@quartethealth.com', 'talent@quartethealth.com', 'accommodations-ext@fb.com', 'talent@ebay.com']\n"
     ]
    }
   ],
   "source": [
    "emails = get_emails(df)\n",
    "print(emails[:5])"
   ]
  },
  {
   "cell_type": "code",
   "execution_count": 10,
   "id": "4095a493",
   "metadata": {},
   "outputs": [
    {
     "name": "stdout",
     "output_type": "stream",
     "text": [
      "['https://www.decode-m.com/', 'https://www.amazon.jobs/en/disability/us.', 'https://www.techatbloomberg.com/nlp/', 'https://bloomberg.com/company/d4gx/', 'https://www.dol.gov/ofccp/regs/compliance/posters/ofccpost.htm']\n"
     ]
    }
   ],
   "source": [
    "urls = get_urls(df)\n",
    "print(urls[:5])"
   ]
  },
  {
   "cell_type": "markdown",
   "id": "50ae427e",
   "metadata": {},
   "source": [
    "## Finding similar strings: the Levenshtein distance"
   ]
  },
  {
   "cell_type": "code",
   "execution_count": 11,
   "id": "c15bae82",
   "metadata": {},
   "outputs": [],
   "source": [
    "import pandas as pd\n",
    "import Levenshtein"
   ]
  },
  {
   "cell_type": "code",
   "execution_count": 12,
   "id": "2cdef9b1",
   "metadata": {},
   "outputs": [],
   "source": [
    "data_file = 'DataScientist.csv'"
   ]
  },
  {
   "cell_type": "code",
   "execution_count": 13,
   "id": "0b3b616f",
   "metadata": {},
   "outputs": [],
   "source": [
    "def find_lavenshtein(input_string, df):\n",
    "    df['distance_to_' + input_string] = df['emails'].apply(lambda x: Levenshtein.distance(input_string, x))\n",
    "    return df"
   ]
  },
  {
   "cell_type": "code",
   "execution_count": 14,
   "id": "b2420cfe",
   "metadata": {},
   "outputs": [],
   "source": [
    "def get_closest_mail_lev(df, email):\n",
    "    df = find_lavenshtein(email, df)\n",
    "    column_name = 'distance_to_' + email\n",
    "    minimum_value_email_index = df[column_name].idxmin()\n",
    "    email = df.loc[minimum_value_email_index]['emails']\n",
    "    return email"
   ]
  },
  {
   "cell_type": "code",
   "execution_count": 15,
   "id": "a084281b",
   "metadata": {},
   "outputs": [],
   "source": [
    "df = pd.read_csv(data_file, encoding='utf-8')\n",
    "emails  = get_emails(df)\n",
    "new_df = pd.DataFrame(emails, columns=['emails'])"
   ]
  },
  {
   "cell_type": "code",
   "execution_count": 16,
   "id": "a2d9931c",
   "metadata": {},
   "outputs": [
    {
     "data": {
      "text/html": [
       "<div>\n",
       "<style scoped>\n",
       "    .dataframe tbody tr th:only-of-type {\n",
       "        vertical-align: middle;\n",
       "    }\n",
       "\n",
       "    .dataframe tbody tr th {\n",
       "        vertical-align: top;\n",
       "    }\n",
       "\n",
       "    .dataframe thead th {\n",
       "        text-align: right;\n",
       "    }\n",
       "</style>\n",
       "<table border=\"1\" class=\"dataframe\">\n",
       "  <thead>\n",
       "    <tr style=\"text-align: right;\">\n",
       "      <th></th>\n",
       "      <th>emails</th>\n",
       "    </tr>\n",
       "  </thead>\n",
       "  <tbody>\n",
       "    <tr>\n",
       "      <th>0</th>\n",
       "      <td>jsmith@quartethealth.com</td>\n",
       "    </tr>\n",
       "    <tr>\n",
       "      <th>1</th>\n",
       "      <td>security@quartethealth.com</td>\n",
       "    </tr>\n",
       "    <tr>\n",
       "      <th>2</th>\n",
       "      <td>talent@quartethealth.com</td>\n",
       "    </tr>\n",
       "    <tr>\n",
       "      <th>3</th>\n",
       "      <td>accommodations-ext@fb.com</td>\n",
       "    </tr>\n",
       "    <tr>\n",
       "      <th>4</th>\n",
       "      <td>talent@ebay.com</td>\n",
       "    </tr>\n",
       "  </tbody>\n",
       "</table>\n",
       "</div>"
      ],
      "text/plain": [
       "                       emails\n",
       "0    jsmith@quartethealth.com\n",
       "1  security@quartethealth.com\n",
       "2    talent@quartethealth.com\n",
       "3   accommodations-ext@fb.com\n",
       "4             talent@ebay.com"
      ]
     },
     "execution_count": 16,
     "metadata": {},
     "output_type": "execute_result"
    }
   ],
   "source": [
    "new_df.head()"
   ]
  },
  {
   "cell_type": "code",
   "execution_count": 17,
   "id": "54f6e141",
   "metadata": {},
   "outputs": [
    {
     "name": "stdout",
     "output_type": "stream",
     "text": [
      "rohit.mcdonald@prolim.com\n"
     ]
    }
   ],
   "source": [
    "input_string = \"rohitt.macdonald@prelim.com\"\n",
    "email = get_closest_mail_lev(new_df, input_string)\n",
    "print(email)"
   ]
  },
  {
   "cell_type": "code",
   "execution_count": 18,
   "id": "f372d9ea",
   "metadata": {},
   "outputs": [],
   "source": [
    "def find_jaro(input_string, df):\n",
    "    df['distance_to_' + input_string] = df['emails'].apply(lambda x: Levenshtein.jaro(input_string, x))\n",
    "    return df"
   ]
  },
  {
   "cell_type": "code",
   "execution_count": 19,
   "id": "dc30d7c2",
   "metadata": {},
   "outputs": [],
   "source": [
    "def get_closest_email_jaro(df, email):\n",
    "    df = find_jaro(email, df)\n",
    "    column_name = 'distance_to_' + email\n",
    "    maximum_value_email_index = df[column_name].idxmax()\n",
    "    email = df.loc[maximum_value_email_index]['emails']\n",
    "    return email\n",
    "    "
   ]
  },
  {
   "cell_type": "code",
   "execution_count": 20,
   "id": "5c29c121",
   "metadata": {},
   "outputs": [],
   "source": [
    "df = pd.read_csv(data_file, encoding='utf-8')\n",
    "emails = get_emails(df)\n",
    "new_df = pd.DataFrame(emails, columns=['emails'])"
   ]
  },
  {
   "cell_type": "code",
   "execution_count": 21,
   "id": "7bf3753d",
   "metadata": {},
   "outputs": [
    {
     "name": "stdout",
     "output_type": "stream",
     "text": [
      "rohit.mcdonald@prolim.com\n"
     ]
    }
   ],
   "source": [
    "input_string = \"rohitt.macdonald@prelim.com\"\n",
    "email = get_closest_email_jaro(new_df, input_string)\n",
    "print(email)"
   ]
  },
  {
   "cell_type": "code",
   "execution_count": 22,
   "id": "2c8d5226",
   "metadata": {},
   "outputs": [
    {
     "name": "stdout",
     "output_type": "stream",
     "text": [
      "1.0\n"
     ]
    }
   ],
   "source": [
    "print(Levenshtein.jaro_winkler(\"rohit.mcdonald@prolim.com\",\n",
    "      \"rohit.mcdonald@prolim.org\"))"
   ]
  },
  {
   "cell_type": "code",
   "execution_count": 23,
   "id": "a7fb83ce",
   "metadata": {},
   "outputs": [],
   "source": [
    "# jellyfish"
   ]
  },
  {
   "cell_type": "markdown",
   "id": "5298110b",
   "metadata": {},
   "source": [
    "## Performing named entity recognition using spaCy"
   ]
  },
  {
   "cell_type": "code",
   "execution_count": 24,
   "id": "25b77345",
   "metadata": {},
   "outputs": [],
   "source": [
    "# ! pip install spacy -U"
   ]
  },
  {
   "cell_type": "code",
   "execution_count": 25,
   "id": "33296bb8",
   "metadata": {},
   "outputs": [],
   "source": [
    "# ! python -m spacy download en_core_web_sm"
   ]
  },
  {
   "cell_type": "code",
   "execution_count": 26,
   "id": "ec0d823b",
   "metadata": {},
   "outputs": [],
   "source": [
    "import spacy"
   ]
  },
  {
   "cell_type": "code",
   "execution_count": 27,
   "id": "abfd8dd3",
   "metadata": {},
   "outputs": [],
   "source": [
    "nlp = spacy.load('en_core_web_sm')"
   ]
  },
  {
   "cell_type": "code",
   "execution_count": 28,
   "id": "d6150edc",
   "metadata": {},
   "outputs": [],
   "source": [
    "article = \"\"\"iPhone 12: Apple makes jump to 5G\n",
    "Apple has confirmed its iPhone 12 handsets will be its first to work on faster 5G networks. \n",
    "The company has also extended the range to include a new \"Mini\" model that has a smaller 5.4in screen. \n",
    "The US firm bucked a wider industry downturn by increasing its handset sales over the past year. \n",
    "But some experts say the new features give Apple its best opportunity for growth since 2014, when it revamped its line-up with the iPhone 6. \n",
    "…\n",
    "\"Networks are going to have to offer eye-wateringly attractive deals, and the way they're going to do that is on great tariffs and attractive trade-in deals,\" \n",
    "predicted Ben Wood from the consultancy CCS Insight. Apple typically unveils its new iPhones in September, but opted for a later date this year. \n",
    "It has not said why, but it was widely speculated to be related to disruption caused by the coronavirus pandemic. The firm's shares ended the day 2.7% lower. \n",
    "This has been linked to reports that several Chinese internet platforms opted not to carry the livestream, \n",
    "although it was still widely viewed and commented on via the social media network Sina Weibo.\"\"\""
   ]
  },
  {
   "cell_type": "code",
   "execution_count": 29,
   "id": "bc1eb0cf",
   "metadata": {},
   "outputs": [],
   "source": [
    "doc = nlp(article)"
   ]
  },
  {
   "cell_type": "code",
   "execution_count": 30,
   "id": "38db5e61",
   "metadata": {},
   "outputs": [
    {
     "name": "stdout",
     "output_type": "stream",
     "text": [
      "12 7 9 CARDINAL\n",
      "Apple 11 16 ORG\n",
      "5 31 32 CARDINAL\n",
      "iPhone 58 64 ORG\n",
      "12 65 67 CARDINAL\n",
      "first 89 94 ORDINAL\n",
      "5 113 114 CARDINAL\n",
      "Mini 185 189 WORK_OF_ART\n",
      "5.4 216 219 CARDINAL\n",
      "US 235 237 GPE\n",
      "the past year 313 326 DATE\n",
      "Apple 372 377 ORG\n",
      "2014 416 420 DATE\n",
      "Ben Wood 643 651 PERSON\n",
      "iPhones 718 725 ORG\n",
      "September 729 738 DATE\n",
      "a later date this year 754 776 DATE\n",
      "2.7% 925 929 PERCENT\n",
      "Chinese 983 990 NORP\n",
      "Sina Weibo 1128 1138 PERSON\n"
     ]
    }
   ],
   "source": [
    "for ent in doc.ents:\n",
    "    print(ent.text, ent.start_char, ent.end_char, ent.label_)"
   ]
  },
  {
   "cell_type": "code",
   "execution_count": 31,
   "id": "ef7dfbc1",
   "metadata": {},
   "outputs": [],
   "source": [
    "# ! python -m spacy download en_core_web_md"
   ]
  },
  {
   "cell_type": "code",
   "execution_count": 32,
   "id": "d78ddb76",
   "metadata": {},
   "outputs": [],
   "source": [
    "nlp = spacy.load('en_core_web_md')"
   ]
  },
  {
   "cell_type": "code",
   "execution_count": 33,
   "id": "7652f10a",
   "metadata": {},
   "outputs": [],
   "source": [
    "doc = nlp(article)"
   ]
  },
  {
   "cell_type": "code",
   "execution_count": 34,
   "id": "2aebdca9",
   "metadata": {},
   "outputs": [
    {
     "name": "stdout",
     "output_type": "stream",
     "text": [
      "iPhone 12 0 9 LAW\n",
      "Apple 11 16 ORG\n",
      "5 31 32 CARDINAL\n",
      "G\n",
      "Apple 32 39 ORG\n",
      "iPhone 12 58 67 LAW\n",
      "first 89 94 ORDINAL\n",
      "5 113 114 CARDINAL\n",
      "5.4 216 219 CARDINAL\n",
      "US 235 237 GPE\n",
      "the past year 313 326 DATE\n",
      "Apple 372 377 ORG\n",
      "2014 416 420 DATE\n",
      "Ben Wood 643 651 PERSON\n",
      "CCS Insight 673 684 ORG\n",
      "Apple 686 691 ORG\n",
      "iPhones 718 725 ORG\n",
      "September 729 738 DATE\n",
      "a later date this year 754 776 DATE\n",
      "the day 917 924 DATE\n",
      "2.7% 925 929 PERCENT\n",
      "Chinese 983 990 NORP\n",
      "Sina Weibo 1128 1138 ORG\n"
     ]
    }
   ],
   "source": [
    "for ent in doc.ents:\n",
    "    print(ent.text, ent.start_char, ent.end_char, ent.label_)"
   ]
  },
  {
   "cell_type": "markdown",
   "id": "2ed1e295",
   "metadata": {},
   "source": [
    "## Training your own NER model with spaCy"
   ]
  },
  {
   "cell_type": "code",
   "execution_count": 35,
   "id": "c8adc694",
   "metadata": {},
   "outputs": [],
   "source": [
    "import spacy\n",
    "from spacy.util import minibatch, compounding\n",
    "from spacy.language import Language\n",
    "from spacy.training.example import Example\n",
    "import warnings\n",
    "import random\n",
    "from pathlib import Path"
   ]
  },
  {
   "cell_type": "code",
   "execution_count": 36,
   "id": "964b3d12",
   "metadata": {},
   "outputs": [],
   "source": [
    "Data  = [\n",
    "    (\"A fakir from far-away India travels to Asterix's village and asks Cacofonix to save his land from drought since his singing can cause rain.\", \n",
    "        {'entities':[(39, 46, \"PERSON\"), (66, 75, \"PERSON\")]}),\n",
    "    (\"Cacofonix, accompanied by Asterix and Obelix, must travel to India aboard a magic carpet to save the life of the princess Orinjade, who is to be sacrificed to stop the drought.\", \n",
    "        {'entities':[(0, 9, \"PERSON\"), (26, 33, \"PERSON\"), (38, 44, \"PERSON\"), (61, 66, \"LOC\"), (122, 130, \"PERSON\")]})\n",
    "]"
   ]
  },
  {
   "cell_type": "code",
   "execution_count": 37,
   "id": "f6ad0040",
   "metadata": {},
   "outputs": [],
   "source": [
    "NEW_LABEL = \"GAULISH_WARRIOR\""
   ]
  },
  {
   "cell_type": "code",
   "execution_count": 38,
   "id": "fe4c031c",
   "metadata": {},
   "outputs": [],
   "source": [
    "MODIFIED_DATA = [\n",
    "    (\"A fakir from far-away India travels to Asterix's village and asks Cacofonix to save his land from drought since his singing can cause rain.\", \n",
    "        {'entities':[(39, 46, NEW_LABEL), (66, 75, NEW_LABEL)]}),\n",
    "    (\"Cacofonix, accompanied by Asterix and Obelix, must travel to India aboard a magic carpet to save the life of the princess Orinjade, who is to be sacrificed to stop the drought.\", \n",
    "        {'entities':[(0, 9, NEW_LABEL), (26, 33, NEW_LABEL), (38, 44, NEW_LABEL), (61, 66, \"LOC\"), (122, 130, \"PERSON\")]})\n",
    "]"
   ]
  },
  {
   "cell_type": "code",
   "execution_count": 39,
   "id": "97316a23",
   "metadata": {},
   "outputs": [],
   "source": [
    "N_ITER = 100\n",
    "OUTPUT_DIR = './model_output'"
   ]
  },
  {
   "cell_type": "code",
   "execution_count": 40,
   "id": "a99e8e4e",
   "metadata": {},
   "outputs": [],
   "source": [
    "def save_model(nlp, output_dir):\n",
    "    output_dir = Path(output_dir)\n",
    "    if not output_dir.exists():\n",
    "        output_dir.mkdir()\n",
    "    nlp.to_disk(output_dir)"
   ]
  },
  {
   "cell_type": "code",
   "execution_count": 41,
   "id": "0f4e8ecc",
   "metadata": {},
   "outputs": [],
   "source": [
    "def load_model(input_dir):\n",
    "    nlp = spacy.load(input_dir)\n",
    "    return nlp\n"
   ]
  },
  {
   "cell_type": "code",
   "execution_count": 42,
   "id": "58e3d203",
   "metadata": {},
   "outputs": [],
   "source": [
    "def create_model(model):\n",
    "    if (model is not None):\n",
    "        nlp = spacy.load(model)\n",
    "    else:\n",
    "        nlp = spacy.blank(\"en\")\n",
    "    return nlp"
   ]
  },
  {
   "cell_type": "code",
   "execution_count": 43,
   "id": "26633789",
   "metadata": {},
   "outputs": [],
   "source": [
    "def add_ner_to_model(nlp):\n",
    "    if \"ner\" not in nlp.pipe_names:\n",
    "        #ner = nlp.create_pipe(\"ner\")\n",
    "        ner = nlp.add_pipe(\"ner\")\n",
    "        #nlp.add_pipe(ner, last=True)\n",
    "    else:\n",
    "        ner = nlp.get_pipe(\"ner\")\n",
    "    return (nlp, ner)"
   ]
  },
  {
   "cell_type": "code",
   "execution_count": 44,
   "id": "729907ed",
   "metadata": {},
   "outputs": [],
   "source": [
    "def add_labels(ner, data):\n",
    "    for sentence, annotations in data:\n",
    "        for ent in annotations.get(\"entities\"):\n",
    "            ner.add_label(ent[2])\n",
    "    return ner"
   ]
  },
  {
   "cell_type": "code",
   "execution_count": 45,
   "id": "2418066d",
   "metadata": {},
   "outputs": [],
   "source": [
    "def train_model(model=None):\n",
    "    nlp = create_model(model)\n",
    "    (nlp, ner) = add_ner_to_model(nlp)\n",
    "    ner = add_labels(ner, Data)\n",
    "    pipe_exceptions = [\"ner\", \"trf_wordpiecer\", \"trf_tok2vec\"]\n",
    "    other_pipes = [pipe for pipe in nlp.pipe_names if pipe not in pipe_exceptions]\n",
    "    with nlp.disable_pipes(*other_pipes), warnings.catch_warnings():\n",
    "        warnings.filterwarnings(\"once\", category=UserWarning, module='spacy')\n",
    "        if model is None:\n",
    "            nlp.begin_training()\n",
    "        for itn in range(N_ITER):\n",
    "            random.shuffle(Data)\n",
    "            losses = {}\n",
    "            batches = minibatch(Data, size=compounding(4.0, 32.0, 1.001))\n",
    "            for batch in batches:\n",
    "                texts, annotations = zip(*batch)\n",
    "                \n",
    "                example = []\n",
    "                # Update the model with iterating each text\n",
    "                for i in range(len(texts)):\n",
    "                    doc = nlp.make_doc(texts[i])\n",
    "                    example.append(Example.from_dict(doc, annotations[i]))\n",
    "                \n",
    "                # Update the model\n",
    "                nlp.update(example, drop=0.5, losses=losses)\n",
    "                #nlp.update(texts,annotations,drop=0.5,losses=losses,)\n",
    "            print(\"Losses\", losses)\n",
    "    return nlp"
   ]
  },
  {
   "cell_type": "code",
   "execution_count": 46,
   "id": "ecd09307",
   "metadata": {},
   "outputs": [],
   "source": [
    "def train_model_new_entity_type(model=None):\n",
    "    random.seed(0)\n",
    "    nlp = create_model(model)\n",
    "    (nlp, ner) = add_ner_to_model(nlp)\n",
    "    ner = add_labels(ner,  MODIFIED_DATA)\n",
    "    if model is None:\n",
    "        optimizer = nlp.begin_training()\n",
    "    else:\n",
    "        optimizer = nlp.resume_training()\n",
    "    move_names = list(ner.move_names)\n",
    "    pipe_exceptions = [\"ner\", \"trf_wordpiecer\", \"trf_tok2vec\"]\n",
    "    other_pipes = [pipe for pipe in nlp.pipe_names if pipe not in pipe_exceptions]\n",
    "    with nlp.disable_pipes(*other_pipes), warnings.catch_warnings():\n",
    "        warnings.filterwarnings(\"once\", category=UserWarning, module='spacy')\n",
    "        sizes = compounding(1.0, 4.0, 1.001)\n",
    "        for itn in range(N_ITER):\n",
    "            random.shuffle(MODIFIED_DATA)\n",
    "            batches = minibatch(MODIFIED_DATA, size=sizes)\n",
    "            losses = {}\n",
    "\n",
    "            for batch in batches:\n",
    "                example = []\n",
    "                texts, annotations = zip(*batch)\n",
    "                for i in range(len(texts)):\n",
    "                    doc = nlp.make_doc(texts[i])\n",
    "                    example.append(Example.from_dict(doc, annotations[i]))\n",
    "                # Update the model\n",
    "                nlp.update(example, sgd=optimizer, drop=0.35, losses=losses)\n",
    "\n",
    "                #nlp.update(texts, annotations, sgd=optimizer, drop=0.35, losses=losses)\n",
    "            print(\"Losses\", losses)\n",
    "    return nlp"
   ]
  },
  {
   "cell_type": "code",
   "execution_count": 47,
   "id": "04fe858f",
   "metadata": {},
   "outputs": [],
   "source": [
    "def test_model(nlp, data):\n",
    "    for text, annotations in data:\n",
    "        doc = nlp(text)\n",
    "        for ent in doc.ents:\n",
    "            print(ent.text, ent.start_char, ent.end_char, ent.label_)"
   ]
  },
  {
   "cell_type": "code",
   "execution_count": 48,
   "id": "153f607a",
   "metadata": {},
   "outputs": [],
   "source": [
    "def without_training(data=Data):\n",
    "    nlp = spacy.load('en_core_web_sm')\n",
    "    test_model(nlp, data)"
   ]
  },
  {
   "cell_type": "code",
   "execution_count": 49,
   "id": "e8659eb8",
   "metadata": {},
   "outputs": [
    {
     "name": "stdout",
     "output_type": "stream",
     "text": [
      "India 22 27 GPE\n",
      "Asterix 39 46 GPE\n",
      "Cacofonix 66 75 PERSON\n",
      "Cacofonix 0 9 PERSON\n",
      "Asterix 26 33 GPE\n",
      "Obelix 38 44 GPE\n",
      "India 61 66 GPE\n"
     ]
    }
   ],
   "source": [
    "without_training()"
   ]
  },
  {
   "cell_type": "code",
   "execution_count": 50,
   "id": "bb62b410",
   "metadata": {
    "scrolled": true
   },
   "outputs": [
    {
     "name": "stdout",
     "output_type": "stream",
     "text": [
      "Losses {'ner': 56.69999474287033}\n",
      "Losses {'ner': 54.958800137043}\n",
      "Losses {'ner': 52.94415831565857}\n",
      "Losses {'ner': 50.565078139305115}\n",
      "Losses {'ner': 48.28574687242508}\n",
      "Losses {'ner': 44.68732714653015}\n",
      "Losses {'ner': 42.361946761608124}\n",
      "Losses {'ner': 38.65636965632439}\n",
      "Losses {'ner': 33.976553559303284}\n",
      "Losses {'ner': 29.553545236587524}\n",
      "Losses {'ner': 25.5546837747097}\n",
      "Losses {'ner': 21.668899461627007}\n",
      "Losses {'ner': 18.45509660243988}\n",
      "Losses {'ner': 16.126677813008428}\n",
      "Losses {'ner': 14.615515949204564}\n",
      "Losses {'ner': 11.444966023322195}\n",
      "Losses {'ner': 12.032228186842985}\n",
      "Losses {'ner': 12.276712302525993}\n",
      "Losses {'ner': 10.90361583068443}\n",
      "Losses {'ner': 12.593374493546435}\n",
      "Losses {'ner': 12.421660574680573}\n",
      "Losses {'ner': 10.493042279020301}\n",
      "Losses {'ner': 10.675639409106225}\n",
      "Losses {'ner': 10.657256406044326}\n",
      "Losses {'ner': 9.764247692161007}\n",
      "Losses {'ner': 8.330677633130108}\n",
      "Losses {'ner': 9.920391023857519}\n",
      "Losses {'ner': 9.579842207487673}\n",
      "Losses {'ner': 9.518379069428192}\n",
      "Losses {'ner': 8.529923015390523}\n",
      "Losses {'ner': 7.433694325532997}\n",
      "Losses {'ner': 6.3485096627118764}\n",
      "Losses {'ner': 5.701265392552159}\n",
      "Losses {'ner': 6.34416675598186}\n",
      "Losses {'ner': 4.413413196034526}\n",
      "Losses {'ner': 4.5878300303068045}\n",
      "Losses {'ner': 4.371063698376929}\n",
      "Losses {'ner': 3.2870626773017193}\n",
      "Losses {'ner': 3.3211119926096444}\n",
      "Losses {'ner': 3.0731410936814427}\n",
      "Losses {'ner': 3.939252035658151}\n",
      "Losses {'ner': 4.0348142235671665}\n",
      "Losses {'ner': 2.062619960290652}\n",
      "Losses {'ner': 1.9049505108615936}\n",
      "Losses {'ner': 3.5888799266182883}\n",
      "Losses {'ner': 1.9903569343180905}\n",
      "Losses {'ner': 2.223640835002872}\n",
      "Losses {'ner': 1.7242298987067657}\n",
      "Losses {'ner': 1.4136794706968359}\n",
      "Losses {'ner': 1.9901121334753007}\n",
      "Losses {'ner': 2.7439869293627766}\n",
      "Losses {'ner': 1.5010266093749898}\n",
      "Losses {'ner': 2.3775356586664365}\n",
      "Losses {'ner': 1.6791343517008945}\n",
      "Losses {'ner': 1.5671828523940456}\n",
      "Losses {'ner': 1.0758693614673807}\n",
      "Losses {'ner': 2.2640393145142146}\n",
      "Losses {'ner': 0.9886596825622885}\n",
      "Losses {'ner': 1.0974210144227958}\n",
      "Losses {'ner': 0.7851342117941725}\n",
      "Losses {'ner': 0.7034431537621182}\n",
      "Losses {'ner': 0.84622659544153}\n",
      "Losses {'ner': 1.3569646496963788}\n",
      "Losses {'ner': 1.0622848982253312}\n",
      "Losses {'ner': 1.306511759686061}\n",
      "Losses {'ner': 1.665557847065666}\n",
      "Losses {'ner': 0.568482646404478}\n",
      "Losses {'ner': 1.267108004912328}\n",
      "Losses {'ner': 0.1875970936550083}\n",
      "Losses {'ner': 0.2969173495209069}\n",
      "Losses {'ner': 1.8138899286190657}\n",
      "Losses {'ner': 1.2709744393487399}\n",
      "Losses {'ner': 0.1002426527987554}\n",
      "Losses {'ner': 0.15190710866744625}\n",
      "Losses {'ner': 0.10613466036829709}\n",
      "Losses {'ner': 0.5513754383649458}\n",
      "Losses {'ner': 0.7144891615819384}\n",
      "Losses {'ner': 0.3389733529020201}\n",
      "Losses {'ner': 0.33147615573705436}\n",
      "Losses {'ner': 0.08290880084886146}\n",
      "Losses {'ner': 0.00407342484308186}\n",
      "Losses {'ner': 0.011875248713618738}\n",
      "Losses {'ner': 1.4323746994119488}\n",
      "Losses {'ner': 0.15585422746217303}\n",
      "Losses {'ner': 0.003047234796566949}\n",
      "Losses {'ner': 1.4746568968753913}\n",
      "Losses {'ner': 0.0076939659824303}\n",
      "Losses {'ner': 0.0028163115780409317}\n",
      "Losses {'ner': 0.006821790789455646}\n",
      "Losses {'ner': 1.2810658176527934}\n",
      "Losses {'ner': 0.6333912371393835}\n",
      "Losses {'ner': 0.33855623910065813}\n",
      "Losses {'ner': 0.0028674862848529284}\n",
      "Losses {'ner': 0.07714751067202168}\n",
      "Losses {'ner': 0.000994467985233452}\n",
      "Losses {'ner': 0.0001677674667000676}\n",
      "Losses {'ner': 0.7270576222293709}\n",
      "Losses {'ner': 0.0006168971705538013}\n",
      "Losses {'ner': 0.2584522224827511}\n",
      "Losses {'ner': 0.007202865093203381}\n",
      "Asterix 39 46 PERSON\n",
      "Cacofonix 66 75 PERSON\n",
      "Cacofonix 0 9 PERSON\n",
      "Asterix 26 33 PERSON\n",
      "Obelix 38 44 PERSON\n",
      "India 61 66 LOC\n",
      "Orinjade 122 130 PERSON\n"
     ]
    }
   ],
   "source": [
    "#without_training()\n",
    "model = \"en_core_web_sm\"\n",
    "#nlp = train_model(model)\n",
    "nlp = train_model()\n",
    "#nlp = train_model_new_entity_type(model)\n",
    "test_model(nlp, Data)\n",
    "save_model(nlp, OUTPUT_DIR)"
   ]
  },
  {
   "cell_type": "code",
   "execution_count": 51,
   "id": "f5569522",
   "metadata": {
    "scrolled": true
   },
   "outputs": [
    {
     "name": "stdout",
     "output_type": "stream",
     "text": [
      "Losses {'ner': 12.873662403094183}\n",
      "Losses {'ner': 11.086281906108713}\n",
      "Losses {'ner': 9.338196985599572}\n",
      "Losses {'ner': 11.315571699796344}\n",
      "Losses {'ner': 8.744863866056008}\n",
      "Losses {'ner': 10.208964536775992}\n",
      "Losses {'ner': 7.507466658867859}\n",
      "Losses {'ner': 7.56369555522287}\n",
      "Losses {'ner': 8.063255207437237}\n",
      "Losses {'ner': 7.409186578850578}\n",
      "Losses {'ner': 6.506002846174155}\n",
      "Losses {'ner': 5.7376775395907345}\n",
      "Losses {'ner': 5.649352904390099}\n",
      "Losses {'ner': 5.812398416121681}\n",
      "Losses {'ner': 5.546093613420467}\n",
      "Losses {'ner': 6.806875053608479}\n",
      "Losses {'ner': 6.429044631896701}\n",
      "Losses {'ner': 5.899568408334076}\n",
      "Losses {'ner': 5.18329166008607}\n",
      "Losses {'ner': 3.953846889725753}\n",
      "Losses {'ner': 4.801641977863412}\n",
      "Losses {'ner': 4.040012741388409}\n",
      "Losses {'ner': 2.2176201349668645}\n",
      "Losses {'ner': 0.8099534462355038}\n",
      "Losses {'ner': 1.4320689444691652}\n",
      "Losses {'ner': 0.07602201369348904}\n",
      "Losses {'ner': 0.04305899091809806}\n",
      "Losses {'ner': 0.09661513995518156}\n",
      "Losses {'ner': 0.0132913786064634}\n",
      "Losses {'ner': 0.10997407550623182}\n",
      "Losses {'ner': 0.0017938825090121858}\n",
      "Losses {'ner': 0.030833509552965453}\n",
      "Losses {'ner': 0.00031769990782532626}\n",
      "Losses {'ner': 0.00017446245348928674}\n",
      "Losses {'ner': 0.00041323287569453856}\n",
      "Losses {'ner': 7.895045959814548e-05}\n",
      "Losses {'ner': 0.00037176993137003484}\n",
      "Losses {'ner': 5.781145908880668e-05}\n",
      "Losses {'ner': 3.358817898963804e-05}\n",
      "Losses {'ner': 0.004305740702903806}\n",
      "Losses {'ner': 0.0002574739066141939}\n",
      "Losses {'ner': 3.4335921417729394e-06}\n",
      "Losses {'ner': 1.1960837754553069e-06}\n",
      "Losses {'ner': 7.027996916992468e-05}\n",
      "Losses {'ner': 1.0492368708158223e-06}\n",
      "Losses {'ner': 0.12332838002652272}\n",
      "Losses {'ner': 1.9294343572511026e-06}\n",
      "Losses {'ner': 9.631592942138621e-07}\n",
      "Losses {'ner': 9.98739712351445e-06}\n",
      "Losses {'ner': 2.94443148882946e-06}\n",
      "Losses {'ner': 1.8017005524139667e-06}\n",
      "Losses {'ner': 4.16140793154822e-05}\n",
      "Losses {'ner': 0.00020024346376851547}\n",
      "Losses {'ner': 3.954402325517099e-08}\n",
      "Losses {'ner': 1.9762078265349883e-07}\n",
      "Losses {'ner': 4.1531403800959774e-07}\n",
      "Losses {'ner': 3.733402894977818e-07}\n",
      "Losses {'ner': 2.7823802699070003e-07}\n",
      "Losses {'ner': 0.00020499512855847227}\n",
      "Losses {'ner': 1.2937726307164444e-06}\n",
      "Losses {'ner': 1.6171175280733668e-06}\n",
      "Losses {'ner': 7.469128118757941e-08}\n",
      "Losses {'ner': 3.098076426883682e-06}\n",
      "Losses {'ner': 3.1952114725429306e-05}\n",
      "Losses {'ner': 0.00033295229397169114}\n",
      "Losses {'ner': 1.619543706042121e-06}\n",
      "Losses {'ner': 1.9446445636811123e-06}\n",
      "Losses {'ner': 1.3619457051503456e-07}\n",
      "Losses {'ner': 7.950815950625132e-06}\n",
      "Losses {'ner': 6.225504784148394e-06}\n",
      "Losses {'ner': 5.623582515459045e-06}\n",
      "Losses {'ner': 0.0009052238020261802}\n",
      "Losses {'ner': 3.7237834187331375e-06}\n",
      "Losses {'ner': 5.919161759882911e-06}\n",
      "Losses {'ner': 1.7049214439464293e-07}\n",
      "Losses {'ner': 4.2444953832342585e-06}\n",
      "Losses {'ner': 3.0159777065489677e-07}\n",
      "Losses {'ner': 1.362688786967068e-07}\n",
      "Losses {'ner': 4.971483796096446e-07}\n",
      "Losses {'ner': 3.684650932959381e-07}\n",
      "Losses {'ner': 2.0092687570879746e-09}\n",
      "Losses {'ner': 1.96589917801314e-08}\n",
      "Losses {'ner': 4.4092621581734693e-07}\n",
      "Losses {'ner': 3.368040240583891e-08}\n",
      "Losses {'ner': 8.569093063665296e-07}\n",
      "Losses {'ner': 1.9143622194210297e-06}\n",
      "Losses {'ner': 4.938423881959533e-08}\n",
      "Losses {'ner': 0.003097228557634744}\n",
      "Losses {'ner': 2.026270427630962e-09}\n",
      "Losses {'ner': 7.565686118226712e-05}\n",
      "Losses {'ner': 3.407418920271351e-05}\n",
      "Losses {'ner': 0.0002745507609164707}\n",
      "Losses {'ner': 5.193768223998207e-05}\n",
      "Losses {'ner': 0.00043176149111004403}\n",
      "Losses {'ner': 4.19011236673761e-09}\n",
      "Losses {'ner': 1.412713361390208e-06}\n",
      "Losses {'ner': 1.4809689279857304e-07}\n",
      "Losses {'ner': 6.66541075470847e-08}\n",
      "Losses {'ner': 2.5939724686098097e-05}\n",
      "Losses {'ner': 6.148065600767702e-10}\n",
      "Asterix 39 46 GAULISH_WARRIOR\n",
      "Cacofonix 66 75 GAULISH_WARRIOR\n",
      "Cacofonix 0 9 GAULISH_WARRIOR\n",
      "Asterix 26 33 GAULISH_WARRIOR\n",
      "Obelix 38 44 GAULISH_WARRIOR\n",
      "India 61 66 LOC\n",
      "Orinjade 122 130 PERSON\n"
     ]
    }
   ],
   "source": [
    "model = \"en_core_web_sm\"\n",
    "nlp = train_model_new_entity_type(model)\n",
    "test_model(nlp, MODIFIED_DATA)"
   ]
  },
  {
   "cell_type": "markdown",
   "id": "ec4ff385",
   "metadata": {},
   "source": [
    "## Discovering sentiment analysis"
   ]
  },
  {
   "cell_type": "code",
   "execution_count": 52,
   "id": "c29ada99",
   "metadata": {},
   "outputs": [
    {
     "name": "stderr",
     "output_type": "stream",
     "text": [
      "[nltk_data] Downloading package vader_lexicon to\n",
      "[nltk_data]     /Users/bat/nltk_data...\n",
      "[nltk_data]   Package vader_lexicon is already up-to-date!\n"
     ]
    },
    {
     "data": {
      "text/plain": [
       "True"
      ]
     },
     "execution_count": 52,
     "metadata": {},
     "output_type": "execute_result"
    }
   ],
   "source": [
    "import nltk\n",
    "nltk.download('vader_lexicon')"
   ]
  },
  {
   "cell_type": "code",
   "execution_count": 53,
   "id": "19c2ebe7",
   "metadata": {},
   "outputs": [],
   "source": [
    "from textblob import TextBlob\n",
    "from nltk.sentiment.vader import SentimentIntensityAnalyzer"
   ]
  },
  {
   "cell_type": "code",
   "execution_count": 54,
   "id": "0ca59319",
   "metadata": {},
   "outputs": [],
   "source": [
    "sentences = [\"I love going to school!\", \"I hate going to school!\"]"
   ]
  },
  {
   "cell_type": "code",
   "execution_count": 55,
   "id": "e00101aa",
   "metadata": {},
   "outputs": [],
   "source": [
    "sid = SentimentIntensityAnalyzer()"
   ]
  },
  {
   "cell_type": "code",
   "execution_count": 56,
   "id": "8621afc3",
   "metadata": {},
   "outputs": [],
   "source": [
    "def get_blob_sentiment(sentence):\n",
    "    result = TextBlob(sentence).sentiment\n",
    "    print(sentence, result.polarity)\n",
    "    return result.polarity\n"
   ]
  },
  {
   "cell_type": "code",
   "execution_count": 57,
   "id": "2597a78c",
   "metadata": {},
   "outputs": [],
   "source": [
    "def get_nltk_sentiment(sentence):\n",
    "    ss = sid.polarity_scores(sentence)\n",
    "    print(sentence, ss['compound'])\n",
    "    return ss['compound']"
   ]
  },
  {
   "cell_type": "code",
   "execution_count": 58,
   "id": "49832046",
   "metadata": {},
   "outputs": [
    {
     "name": "stdout",
     "output_type": "stream",
     "text": [
      "I love going to school! 0.6696\n",
      "I hate going to school! -0.6114\n"
     ]
    }
   ],
   "source": [
    "for sentence in sentences:\n",
    "    sentiment = get_nltk_sentiment(sentence)"
   ]
  },
  {
   "cell_type": "code",
   "execution_count": 59,
   "id": "f72627b1",
   "metadata": {},
   "outputs": [
    {
     "name": "stdout",
     "output_type": "stream",
     "text": [
      "I love going to school! 0.625\n",
      "I hate going to school! -1.0\n"
     ]
    }
   ],
   "source": [
    "for sentence in sentences:\n",
    "    sentiment = get_blob_sentiment(sentence)"
   ]
  },
  {
   "cell_type": "markdown",
   "id": "67452310",
   "metadata": {},
   "source": [
    "### Sentiment for short texts using LSTM: Twitter"
   ]
  },
  {
   "cell_type": "code",
   "execution_count": 60,
   "id": "85400265",
   "metadata": {},
   "outputs": [],
   "source": [
    "import os\n",
    "import tensorflow as tf\n",
    "\n",
    "# os.environ['AUTOGRAPH_VERBOSITY'] = '5'\n",
    "# os.environ['TF_CPP_MIN_LOG_LEVEL'] = '1'\n",
    "# Verbosity is now 5\n",
    "\n",
    "# tf.autograph.set_verbosity(0)\n",
    "# Verbosity is now 0\n",
    "\n",
    "import warnings\n",
    "warnings.filterwarnings(\"ignore\")\n",
    "\n",
    "\n",
    "import re\n",
    "import pandas as pd\n",
    "from tqdm.notebook import tqdm\n",
    "from wordseg import segment\n",
    "import html\n",
    "import numpy as np\n",
    "from sklearn.metrics import classification_report\n",
    "from sklearn.model_selection import train_test_split\n",
    "from langdetect import detect\n",
    "from langdetect.lang_detect_exception import LangDetectException\n",
    "from tensorflow.keras.preprocessing.text import Tokenizer\n",
    "from tensorflow.keras.preprocessing.sequence import pad_sequences\n",
    "import tensorflow as tf\n",
    "from tensorflow.keras import Sequential\n",
    "from tensorflow.keras.layers import Embedding, SpatialDropout1D, LSTM, Dense\n",
    "from tensorflow.keras.callbacks import EarlyStopping\n",
    "import matplotlib.pyplot as plt\n",
    "import pickle\n",
    "#from Chapter04.lstm_classification import plot_model"
   ]
  },
  {
   "cell_type": "code",
   "execution_count": 61,
   "id": "6953966e",
   "metadata": {},
   "outputs": [],
   "source": [
    "def plot_model(history):\n",
    "    plt.title('Loss')\n",
    "    plt.plot(history.history['loss'], label='train')\n",
    "    plt.plot(history.history['val_loss'], label='test')\n",
    "    plt.legend()\n",
    "    plt.show()"
   ]
  },
  {
   "cell_type": "code",
   "execution_count": 62,
   "id": "2dd026b9",
   "metadata": {},
   "outputs": [],
   "source": [
    "MAX_NUM_WORDS = 50000\n",
    "EMBEDDING_DIM = 500\n",
    "twitter_csv = \"training.1600000.processed.noemoticon.csv\"\n",
    "english_twitter = \"./twitter_english.csv\""
   ]
  },
  {
   "cell_type": "code",
   "execution_count": 63,
   "id": "3728ebe1",
   "metadata": {},
   "outputs": [],
   "source": [
    "tqdm.pandas()"
   ]
  },
  {
   "cell_type": "code",
   "execution_count": 64,
   "id": "82039f8d",
   "metadata": {},
   "outputs": [],
   "source": [
    "def filter_english(df, save_path):\n",
    "    df['language'] = df['tweet'].progress_apply(lambda t: lang_detect(t))\n",
    "    df = df[df['language']=='en']\n",
    "    df.to_csv(save_path, encoding='latin1', index=False)\n",
    "    return df"
   ]
  },
  {
   "cell_type": "code",
   "execution_count": 65,
   "id": "78fb72d4",
   "metadata": {},
   "outputs": [],
   "source": [
    "def get_data(filename, save_path, num_datapoints=80000):\n",
    "    df = pd.read_csv(filename, encoding='latin1')\n",
    "    df.columns = ['sentiment', 'id', 'date', 'query','username', 'tweet']\n",
    "    df = pd.concat([df.head(num_datapoints), df.tail(num_datapoints)])\n",
    "    df = filter_english(df, save_path)\n",
    "    return df"
   ]
  },
  {
   "cell_type": "code",
   "execution_count": 66,
   "id": "7ae8d33b",
   "metadata": {},
   "outputs": [],
   "source": [
    "def lang_detect(text):\n",
    "    lang = \"\"\n",
    "    try:\n",
    "        lang = detect(text)\n",
    "    except LangDetectException:\n",
    "        lang = \"None\"\n",
    "    return lang"
   ]
  },
  {
   "cell_type": "code",
   "execution_count": 67,
   "id": "ea1c2347",
   "metadata": {},
   "outputs": [],
   "source": [
    "def segment_hashtags(tweet):\n",
    "    matches = re.findall(r'#[a-z0-9]+', tweet)\n",
    "    for match in matches:\n",
    "        tweet = re.sub(match, ' '.join(segment(match)[0]), tweet)\n",
    "    return tweet"
   ]
  },
  {
   "cell_type": "code",
   "execution_count": 68,
   "id": "d981cd8f",
   "metadata": {},
   "outputs": [],
   "source": [
    "def clean_data(df):\n",
    "    #Lowercase all tweets\n",
    "    df['tweet'] = df['tweet'].progress_apply(lambda t: t.lower())\n",
    "    #Decode HTML\n",
    "    df['tweet'] = df['tweet'].progress_apply(lambda t: html.unescape(t))\n",
    "    #Remove @ mentions\n",
    "    df['tweet'] = df['tweet'].progress_apply(lambda t: re.sub(r'@[A-Za-z0-9]+','',t))\n",
    "    #Remove URLs\n",
    "    df['tweet'] = df['tweet'].progress_apply(lambda t:re.sub('https?://[A-Za-z0-9./]+','',t))\n",
    "    #Segment hashtags\n",
    "    df['tweet'] = df['tweet'].progress_apply(lambda t: segment_hashtags(t))\n",
    "    #Remove remaining non-alpha characters\n",
    "    df['tweet'] = df['tweet'].progress_apply(lambda t: re.sub(\"[^a-zA-Z]\", \" \", t))\n",
    "    #Re-label positive tweets with 1 instead of 4\n",
    "    df['sentiment'] = df['sentiment'].apply(lambda t: 1 if t==4 else t)\n",
    "    return df"
   ]
  },
  {
   "cell_type": "code",
   "execution_count": 69,
   "id": "a561c39e",
   "metadata": {},
   "outputs": [],
   "source": [
    "def evaluate(clf, X_test, y_test):\n",
    "    y_pred = clf.predict(X_test)\n",
    "    y_pred = np.where(y_pred > 0.5, 1,0)\n",
    "    y_pred = [pred[0] for pred in y_pred]\n",
    "    print(classification_report(y_test, y_pred, labels=[0, 1], target_names=['negative', 'positive']))"
   ]
  },
  {
   "cell_type": "code",
   "execution_count": 70,
   "id": "7a2e3b13",
   "metadata": {},
   "outputs": [],
   "source": [
    "def train_model(df):\n",
    "    tokenizer = Tokenizer(num_words=MAX_NUM_WORDS, filters='!\"#$%&()*+,-./:;<=>?@[\\]^_`{|}~', lower=True)\n",
    "    tokenizer.fit_on_texts(df['tweet'].values)\n",
    "    save_tokenizer(tokenizer, 'twitter_tokenizer.pkl')\n",
    "    X = tokenizer.texts_to_sequences(df['tweet'].values)\n",
    "    X = pad_sequences(X)\n",
    "    y = df['sentiment'].values\n",
    "    X_train, X_test, y_train, y_test = train_test_split(X, y, test_size=0.20, \n",
    "                                                        random_state=42, stratify=df['sentiment'])\n",
    "    optimizer = tf.keras.optimizers.Adam(0.00001)\n",
    "    model = Sequential()\n",
    "    model.add(Embedding(MAX_NUM_WORDS, EMBEDDING_DIM, input_length=X.shape[1]))\n",
    "    model.add(SpatialDropout1D(0.2))\n",
    "    model.add(LSTM(100, dropout=0.5, recurrent_dropout=0.5))\n",
    "    model.add(Dense(1, activation='sigmoid'))\n",
    "    \n",
    "    model.compile(loss='binary_crossentropy', optimizer=optimizer, metrics=['accuracy'])\n",
    "    \n",
    "    epochs = 15\n",
    "    batch_size = 64\n",
    "    \n",
    "    es = EarlyStopping(monitor='val_loss', patience=3, min_delta=0.0001)\n",
    "    history = model.fit(X_train, y_train, epochs=epochs, batch_size=batch_size, validation_split=0.3, callbacks=es)\n",
    "    \n",
    "    accr = model.evaluate(X_test, y_test)\n",
    "    print('Test set\\n  Loss: {:0.3f}\\n  Accuracy: {:0.3f}'.format(accr[0],accr[1]))\n",
    "    model.save('twitter_model.h5')\n",
    "    evaluate(model, X_test, y_test)\n",
    "    plot_model(history)"
   ]
  },
  {
   "cell_type": "code",
   "execution_count": 71,
   "id": "4c051b50",
   "metadata": {},
   "outputs": [],
   "source": [
    "def save_tokenizer(tokenizer, filename):\n",
    "    with open(filename, 'wb') as f:\n",
    "        pickle.dump(tokenizer, f, protocol=pickle.HIGHEST_PROTOCOL)"
   ]
  },
  {
   "cell_type": "code",
   "execution_count": 72,
   "id": "5c0522f3",
   "metadata": {},
   "outputs": [
    {
     "data": {
      "application/vnd.jupyter.widget-view+json": {
       "model_id": "f795ade92f1c45c58a6c0b82e0821e12",
       "version_major": 2,
       "version_minor": 0
      },
      "text/plain": [
       "  0%|          | 0/160000 [00:00<?, ?it/s]"
      ]
     },
     "metadata": {},
     "output_type": "display_data"
    }
   ],
   "source": [
    "df = get_data(twitter_csv, 'twitter_english.csv')"
   ]
  },
  {
   "cell_type": "code",
   "execution_count": 73,
   "id": "4bf0971d",
   "metadata": {},
   "outputs": [
    {
     "data": {
      "application/vnd.jupyter.widget-view+json": {
       "model_id": "d56ea230ad8d4a73b36a78a6cf4b414e",
       "version_major": 2,
       "version_minor": 0
      },
      "text/plain": [
       "  0%|          | 0/148688 [00:00<?, ?it/s]"
      ]
     },
     "metadata": {},
     "output_type": "display_data"
    },
    {
     "data": {
      "application/vnd.jupyter.widget-view+json": {
       "model_id": "959885e8dc1a4d669dbe3f1c98f142a1",
       "version_major": 2,
       "version_minor": 0
      },
      "text/plain": [
       "  0%|          | 0/148688 [00:00<?, ?it/s]"
      ]
     },
     "metadata": {},
     "output_type": "display_data"
    },
    {
     "data": {
      "application/vnd.jupyter.widget-view+json": {
       "model_id": "5e5bfb12323843809291ffbd5a846c51",
       "version_major": 2,
       "version_minor": 0
      },
      "text/plain": [
       "  0%|          | 0/148688 [00:00<?, ?it/s]"
      ]
     },
     "metadata": {},
     "output_type": "display_data"
    },
    {
     "data": {
      "application/vnd.jupyter.widget-view+json": {
       "model_id": "39d5140ed02240219aaed8d3c009f386",
       "version_major": 2,
       "version_minor": 0
      },
      "text/plain": [
       "  0%|          | 0/148688 [00:00<?, ?it/s]"
      ]
     },
     "metadata": {},
     "output_type": "display_data"
    },
    {
     "data": {
      "application/vnd.jupyter.widget-view+json": {
       "model_id": "894e4073e6534419b5b085dc78898b2e",
       "version_major": 2,
       "version_minor": 0
      },
      "text/plain": [
       "  0%|          | 0/148688 [00:00<?, ?it/s]"
      ]
     },
     "metadata": {},
     "output_type": "display_data"
    },
    {
     "data": {
      "application/vnd.jupyter.widget-view+json": {
       "model_id": "55383297cc7b449bb1dd42b3be22ab71",
       "version_major": 2,
       "version_minor": 0
      },
      "text/plain": [
       "  0%|          | 0/148688 [00:00<?, ?it/s]"
      ]
     },
     "metadata": {},
     "output_type": "display_data"
    }
   ],
   "source": [
    "df = clean_data(df)"
   ]
  },
  {
   "cell_type": "code",
   "execution_count": 74,
   "id": "ebb6e9fc",
   "metadata": {
    "scrolled": false
   },
   "outputs": [
    {
     "name": "stdout",
     "output_type": "stream",
     "text": [
      "Epoch 1/15\n",
      "1302/1302 [==============================] - 790s 604ms/step - loss: 0.6886 - accuracy: 0.5685 - val_loss: 0.6820 - val_accuracy: 0.6211\n",
      "Epoch 2/15\n",
      "1302/1302 [==============================] - 711s 546ms/step - loss: 0.6642 - accuracy: 0.6349 - val_loss: 0.6333 - val_accuracy: 0.6653\n",
      "Epoch 3/15\n",
      "1302/1302 [==============================] - 811s 623ms/step - loss: 0.6093 - accuracy: 0.6837 - val_loss: 0.5846 - val_accuracy: 0.7087\n",
      "Epoch 4/15\n",
      "1302/1302 [==============================] - 945s 725ms/step - loss: 0.5686 - accuracy: 0.7168 - val_loss: 0.5553 - val_accuracy: 0.7260\n",
      "Epoch 5/15\n",
      "1302/1302 [==============================] - 803s 617ms/step - loss: 0.5410 - accuracy: 0.7400 - val_loss: 0.5351 - val_accuracy: 0.7430\n",
      "Epoch 6/15\n",
      "1302/1302 [==============================] - 849s 652ms/step - loss: 0.5206 - accuracy: 0.7537 - val_loss: 0.5204 - val_accuracy: 0.7534\n",
      "Epoch 7/15\n",
      "1302/1302 [==============================] - 830s 638ms/step - loss: 0.5055 - accuracy: 0.7649 - val_loss: 0.5087 - val_accuracy: 0.7600\n",
      "Epoch 8/15\n",
      "1302/1302 [==============================] - 1382s 1s/step - loss: 0.4916 - accuracy: 0.7719 - val_loss: 0.4992 - val_accuracy: 0.7642\n",
      "Epoch 9/15\n",
      "1302/1302 [==============================] - 1193s 916ms/step - loss: 0.4786 - accuracy: 0.7795 - val_loss: 0.4915 - val_accuracy: 0.7703\n",
      "Epoch 10/15\n",
      "1302/1302 [==============================] - 1641s 1s/step - loss: 0.4696 - accuracy: 0.7849 - val_loss: 0.4850 - val_accuracy: 0.7723\n",
      "Epoch 11/15\n",
      "1302/1302 [==============================] - 1495s 1s/step - loss: 0.4601 - accuracy: 0.7898 - val_loss: 0.4796 - val_accuracy: 0.7749\n",
      "Epoch 12/15\n",
      "1302/1302 [==============================] - 1178s 905ms/step - loss: 0.4524 - accuracy: 0.7941 - val_loss: 0.4751 - val_accuracy: 0.7766\n",
      "Epoch 13/15\n",
      "1302/1302 [==============================] - 1090s 837ms/step - loss: 0.4452 - accuracy: 0.7975 - val_loss: 0.4712 - val_accuracy: 0.7784\n",
      "Epoch 14/15\n",
      "1302/1302 [==============================] - 959s 736ms/step - loss: 0.4396 - accuracy: 0.8017 - val_loss: 0.4681 - val_accuracy: 0.7808\n",
      "Epoch 15/15\n",
      "1302/1302 [==============================] - 895s 687ms/step - loss: 0.4329 - accuracy: 0.8057 - val_loss: 0.4659 - val_accuracy: 0.7816\n",
      "930/930 [==============================] - 30s 33ms/step - loss: 0.4581 - accuracy: 0.7863\n",
      "Test set\n",
      "  Loss: 0.458\n",
      "  Accuracy: 0.786\n",
      "              precision    recall  f1-score   support\n",
      "\n",
      "    negative       0.79      0.78      0.79     14954\n",
      "    positive       0.78      0.79      0.79     14784\n",
      "\n",
      "    accuracy                           0.79     29738\n",
      "   macro avg       0.79      0.79      0.79     29738\n",
      "weighted avg       0.79      0.79      0.79     29738\n",
      "\n"
     ]
    },
    {
     "data": {
      "image/png": "[encoded data removed]",
      "text/plain": [
       "<Figure size 432x288 with 1 Axes>"
      ]
     },
     "metadata": {
      "needs_background": "light"
     },
     "output_type": "display_data"
    }
   ],
   "source": [
    "train_model(df)"
   ]
  },
  {
   "cell_type": "markdown",
   "id": "9425cde6",
   "metadata": {},
   "source": [
    "## Using BERT for sentiment analysis"
   ]
  },
  {
   "cell_type": "code",
   "execution_count": 1,
   "id": "d576e3eb",
   "metadata": {},
   "outputs": [],
   "source": [
    "import os\n",
    "import tensorflow as tf\n",
    "\n",
    "os.environ['AUTOGRAPH_VERBOSITY'] = '5'\n",
    "os.environ['TF_CPP_MIN_LOG_LEVEL'] = '1'\n",
    "# Verbosity is now 5\n",
    "\n",
    "tf.autograph.set_verbosity(0)\n",
    "# Verbosity is now 0\n",
    "\n",
    "import os\n",
    "\n",
    "import tensorflow as tf\n",
    "\n",
    "import pandas as pd\n",
    "import tensorflow as tf\n",
    "import numpy as np\n",
    "from transformers import BertTokenizer\n",
    "from transformers import TFBertForSequenceClassification\n",
    "from tensorflow.keras.layers import Dense\n",
    "from sklearn.model_selection import train_test_split\n",
    "\n",
    "import html\n",
    "import re\n",
    "from wordseg import segment\n",
    "from sklearn.metrics import classification_report\n",
    "from tqdm.notebook import tqdm\n",
    "tqdm.pandas()\n",
    "\n",
    "import warnings\n",
    "warnings.filterwarnings(\"ignore\")"
   ]
  },
  {
   "cell_type": "code",
   "execution_count": 2,
   "id": "724fbd83",
   "metadata": {},
   "outputs": [],
   "source": [
    "def plot_model(history):\n",
    "    plt.title('Loss')\n",
    "    plt.plot(history.history['loss'], label='train')\n",
    "    plt.plot(history.history['val_loss'], label='test')\n",
    "    plt.legend()\n",
    "    plt.show()"
   ]
  },
  {
   "cell_type": "code",
   "execution_count": 3,
   "id": "2e2206f0",
   "metadata": {},
   "outputs": [],
   "source": [
    "def split_dataset(df, train_column_name, gold_column_name, test_percent=20):\n",
    "    X_train, X_test, y_train, y_test = train_test_split(df[train_column_name], df[gold_column_name], test_size=test_percent, random_state=0)\n",
    "    return X_train, X_test, y_train, y_test"
   ]
  },
  {
   "cell_type": "code",
   "execution_count": 4,
   "id": "59d3a88e",
   "metadata": {},
   "outputs": [],
   "source": [
    "def segment_hashtags(tweet):\n",
    "    matches = re.findall(r'#[a-z0-9]+', tweet)\n",
    "    for match in matches:\n",
    "        tweet = re.sub(match, ' '.join(segment(match)[0]), tweet)\n",
    "    return tweet"
   ]
  },
  {
   "cell_type": "code",
   "execution_count": 5,
   "id": "068d6c3e",
   "metadata": {},
   "outputs": [],
   "source": [
    "def clean_data(df):\n",
    "    #Lowercase all tweets\n",
    "    df['tweet'] = df['tweet'].progress_apply(lambda t: t.lower())\n",
    "    #Decode HTML\n",
    "    df['tweet'] = df['tweet'].progress_apply(lambda t: html.unescape(t))\n",
    "    #Remove @ mentions\n",
    "    df['tweet'] = df['tweet'].progress_apply(lambda t: re.sub(r'@[A-Za-z0-9]+','',t))\n",
    "    #Remove URLs\n",
    "    df['tweet'] = df['tweet'].progress_apply(lambda t: re.sub('https?://[A-Za-z0-9./]+','',t))\n",
    "    #Segment hashtags\n",
    "    df['tweet'] = df['tweet'].progress_apply(lambda t: segment_hashtags(t))\n",
    "    #Remove remaining non-alpha characters\n",
    "    df['tweet'] = df['tweet'].progress_apply(lambda t: re.sub(\"[^a-zA-Z]\", \" \", t))\n",
    "    #Re-label positive tweets with 1 instead of 4\n",
    "    df['sentiment'] = df['sentiment'].apply(lambda t: 1 if t==4 else t)\n",
    "    return df"
   ]
  },
  {
   "cell_type": "code",
   "execution_count": 6,
   "id": "21f77c00",
   "metadata": {},
   "outputs": [],
   "source": [
    "BATCH_SIZE = 32\n",
    "DATASET_SIZE = 4000\n",
    "english_twitter = \"./twitter_english.csv\"\n",
    "tokenizer = BertTokenizer.from_pretrained('bert-base-uncased', do_lower_case=True)\n",
    "max_length = 200"
   ]
  },
  {
   "cell_type": "code",
   "execution_count": 7,
   "id": "c7a0d5bf",
   "metadata": {},
   "outputs": [],
   "source": [
    "def encode_data(df):\n",
    "    input_ids_list = []\n",
    "    token_type_ids_list = []\n",
    "    attention_mask_list = []\n",
    "    label_list = []\n",
    "    for index, row in df.iterrows():\n",
    "        tweet = row['tweet']\n",
    "        label = row['sentiment']\n",
    "        bert_input = tokenizer.encode_plus(\n",
    "                        tweet,                      \n",
    "                        add_special_tokens = True, # add [CLS], [SEP]\n",
    "                        max_length = max_length, # max length of the text that can go to BERT\n",
    "                        padding='max_length', # add [PAD] tokens\n",
    "                        return_attention_mask = True, # add attention mask to not focus on pad tokens\n",
    "                        truncation=True\n",
    "            )        \n",
    "        input_ids_list.append(bert_input['input_ids'])\n",
    "        token_type_ids_list.append(bert_input['token_type_ids'])\n",
    "        attention_mask_list.append(bert_input['attention_mask'])\n",
    "        label_list.append([label])\n",
    "    return tf.data.Dataset.from_tensor_slices((input_ids_list, attention_mask_list, token_type_ids_list, label_list)).map(map_inputs_to_dict)\n"
   ]
  },
  {
   "cell_type": "code",
   "execution_count": 8,
   "id": "b0970690",
   "metadata": {},
   "outputs": [],
   "source": [
    "def map_inputs_to_dict(input_ids, attention_masks, token_type_ids, label):\n",
    "    return {\n",
    "      \"input_ids\": input_ids,\n",
    "      \"token_type_ids\": token_type_ids,\n",
    "      \"attention_mask\": attention_masks,\n",
    "  }, label"
   ]
  },
  {
   "cell_type": "code",
   "execution_count": 9,
   "id": "05b84ffe",
   "metadata": {},
   "outputs": [],
   "source": [
    "def prepare_dataset(df, size=int(DATASET_SIZE/2)):\n",
    "    df = clean_data(df)\n",
    "    df = pd.concat([df.head(size),df.tail(size)])\n",
    "    df = df.sample(frac = 1)\n",
    "    ds = encode_data(df)\n",
    "    return ds"
   ]
  },
  {
   "cell_type": "code",
   "execution_count": 10,
   "id": "7bec6e4d",
   "metadata": {},
   "outputs": [],
   "source": [
    "def get_test_train_val_datasets(ds, size=DATASET_SIZE, batch_size=BATCH_SIZE):\n",
    "    ds.shuffle(32)\n",
    "    train_size = int(0.7 * size)\n",
    "    val_size = int(0.15 * size)\n",
    "    test_size = int(0.15 * size)\n",
    "    train_dataset = ds.take(train_size).batch(batch_size)\n",
    "    test_dataset = ds.skip(train_size)\n",
    "    val_dataset = test_dataset.skip(test_size).batch(batch_size)\n",
    "    test_dataset = test_dataset.take(test_size).batch(batch_size)\n",
    "    return (train_dataset, test_dataset, val_dataset)"
   ]
  },
  {
   "cell_type": "code",
   "execution_count": 11,
   "id": "bc6251af",
   "metadata": {},
   "outputs": [],
   "source": [
    "def fine_tune_model(ds, export_dir):\n",
    "    (train_dataset, test_dataset, val_dataset) = get_test_train_val_datasets(ds)\n",
    "    learning_rate = 2e-5\n",
    "    number_of_epochs = 1\n",
    "    model = TFBertForSequenceClassification.from_pretrained('bert-base-uncased')\n",
    "    optimizer = tf.keras.optimizers.Adam(learning_rate=learning_rate, epsilon=1e-08)\n",
    "    loss = tf.keras.losses.SparseCategoricalCrossentropy(from_logits=True)\n",
    "    metric = tf.keras.metrics.SparseCategoricalAccuracy('accuracy')\n",
    "    model.compile(optimizer=optimizer, loss=loss, metrics=[metric])\n",
    "    bert_history = model.fit(train_dataset, epochs=number_of_epochs, validation_data=val_dataset)\n",
    "    model.save_pretrained(export_dir)\n",
    "    return model"
   ]
  },
  {
   "cell_type": "code",
   "execution_count": 12,
   "id": "0e1360a1",
   "metadata": {},
   "outputs": [],
   "source": [
    "def load_existing_model(export_dir):\n",
    "    model = TFBertForSequenceClassification.from_pretrained(export_dir)\n",
    "    return model"
   ]
  },
  {
   "cell_type": "code",
   "execution_count": 13,
   "id": "b2c1e7e8",
   "metadata": {},
   "outputs": [],
   "source": [
    "def read_existing_file(filename):\n",
    "    df = pd.read_csv(filename)\n",
    "    df = df[['tweet', 'sentiment']]\n",
    "    return df"
   ]
  },
  {
   "cell_type": "code",
   "execution_count": 14,
   "id": "31507f62",
   "metadata": {},
   "outputs": [
    {
     "data": {
      "application/vnd.jupyter.widget-view+json": {
       "model_id": "c33948a35ff7479188e8486786f664c3",
       "version_major": 2,
       "version_minor": 0
      },
      "text/plain": [
       "  0%|          | 0/148688 [00:00<?, ?it/s]"
      ]
     },
     "metadata": {},
     "output_type": "display_data"
    },
    {
     "data": {
      "application/vnd.jupyter.widget-view+json": {
       "model_id": "fc30d50a041e4a43b358c2b1c4d4c960",
       "version_major": 2,
       "version_minor": 0
      },
      "text/plain": [
       "  0%|          | 0/148688 [00:00<?, ?it/s]"
      ]
     },
     "metadata": {},
     "output_type": "display_data"
    },
    {
     "data": {
      "application/vnd.jupyter.widget-view+json": {
       "model_id": "852bccc253ab47b390d3eb4234a2b56b",
       "version_major": 2,
       "version_minor": 0
      },
      "text/plain": [
       "  0%|          | 0/148688 [00:00<?, ?it/s]"
      ]
     },
     "metadata": {},
     "output_type": "display_data"
    },
    {
     "data": {
      "application/vnd.jupyter.widget-view+json": {
       "model_id": "7f6df36d12bb407c8883ef701f3a88b6",
       "version_major": 2,
       "version_minor": 0
      },
      "text/plain": [
       "  0%|          | 0/148688 [00:00<?, ?it/s]"
      ]
     },
     "metadata": {},
     "output_type": "display_data"
    },
    {
     "data": {
      "application/vnd.jupyter.widget-view+json": {
       "model_id": "4c8f5fc4c2ca431eb7314bdf392bd7f1",
       "version_major": 2,
       "version_minor": 0
      },
      "text/plain": [
       "  0%|          | 0/148688 [00:00<?, ?it/s]"
      ]
     },
     "metadata": {},
     "output_type": "display_data"
    },
    {
     "data": {
      "application/vnd.jupyter.widget-view+json": {
       "model_id": "1d22153503564ee6ae36a42bc3697830",
       "version_major": 2,
       "version_minor": 0
      },
      "text/plain": [
       "  0%|          | 0/148688 [00:00<?, ?it/s]"
      ]
     },
     "metadata": {},
     "output_type": "display_data"
    }
   ],
   "source": [
    "df = read_existing_file(english_twitter)\n",
    "dataset = prepare_dataset(df)"
   ]
  },
  {
   "cell_type": "code",
   "execution_count": null,
   "id": "996be22f",
   "metadata": {},
   "outputs": [
    {
     "name": "stderr",
     "output_type": "stream",
     "text": [
      "All model checkpoint layers were used when initializing TFBertForSequenceClassification.\n",
      "\n",
      "Some layers of TFBertForSequenceClassification were not initialized from the model checkpoint at bert-base-uncased and are newly initialized: ['classifier']\n",
      "You should probably TRAIN this model on a down-stream task to be able to use it for predictions and inference.\n"
     ]
    },
    {
     "name": "stdout",
     "output_type": "stream",
     "text": [
      "WARNING:tensorflow:The parameters `output_attentions`, `output_hidden_states` and `use_cache` cannot be updated when calling a model.They have to be set to True/False in the config object (i.e.: `config=XConfig.from_pretrained('name', output_attentions=True)`).\n",
      "WARNING:tensorflow:AutoGraph could not transform <bound method Socket.send of <zmq.sugar.socket.Socket object at 0x7f8b97c63ca0>> and will run it as-is.\n",
      "Please report this to the TensorFlow team. When filing the bug, set the verbosity to 10 (on Linux, `export AUTOGRAPH_VERBOSITY=10`) and attach the full output.\n",
      "Cause: module, class, method, function, traceback, frame, or code object was expected, got cython_function_or_method\n",
      "To silence this warning, decorate the function with @tf.autograph.experimental.do_not_convert\n",
      "WARNING:tensorflow:The parameter `return_dict` cannot be set in graph mode and will always be set to `True`.\n",
      "WARNING:tensorflow:From /Users/bat/miniconda3/lib/python3.8/site-packages/tensorflow/python/ops/array_ops.py:5043: calling gather (from tensorflow.python.ops.array_ops) with validate_indices is deprecated and will be removed in a future version.\n",
      "Instructions for updating:\n",
      "The `validate_indices` argument has no effect. Indices are always validated on CPU and never validated on GPU.\n",
      "WARNING:tensorflow:The parameters `output_attentions`, `output_hidden_states` and `use_cache` cannot be updated when calling a model.They have to be set to True/False in the config object (i.e.: `config=XConfig.from_pretrained('name', output_attentions=True)`).\n",
      "WARNING:tensorflow:The parameter `return_dict` cannot be set in graph mode and will always be set to `True`.\n",
      "74/88 [========================>.....] - ETA: 33:20 - loss: 0.5971 - accuracy: 0.6736"
     ]
    }
   ],
   "source": [
    "model = fine_tune_model(dataset,'./bert_twitter_model')"
   ]
  },
  {
   "cell_type": "code",
   "execution_count": null,
   "id": "0bf47abe",
   "metadata": {},
   "outputs": [],
   "source": [
    "def encode_example(input_text):\n",
    "    tokenized = tokenizer.tokenize(input_text)\n",
    "    bert_input = tokenizer.encode_plus(\n",
    "                    input_text,                      \n",
    "                    add_special_tokens = True, # add [CLS], [SEP]\n",
    "                    max_length = max_length, # max length of the text that can go to BERT\n",
    "                    pad_to_max_length = True, # add [PAD] tokens\n",
    "                    return_attention_mask = True, # add attention mask to not focus on pad tokens\n",
    "                    return_tensors='tf',\n",
    "                    padding='max_length'\n",
    "        )\n",
    "    return bert_input"
   ]
  },
  {
   "cell_type": "code",
   "execution_count": null,
   "id": "69a30bb4",
   "metadata": {},
   "outputs": [],
   "source": [
    "def test_new_example(model_path, tweet):\n",
    "    model = load_existing_model(model_path)\n",
    "    bert_input = encode_example(tweet)\n",
    "    tf_output = model.predict([bert_input['input_ids'], bert_input['token_type_ids'], bert_input['attention_mask']])[0]\n",
    "    tf_pred = tf.nn.softmax(tf_output, axis=1).numpy()[0]\n",
    "    new_label = np.argmax(tf_pred, axis=-1)\n",
    "    print(new_label)\n",
    "    return new_label"
   ]
  },
  {
   "cell_type": "code",
   "execution_count": null,
   "id": "d71e44c5",
   "metadata": {},
   "outputs": [],
   "source": [
    "test_new_example('./bert_twitter_model', 'I hate going to the school')"
   ]
  },
  {
   "cell_type": "code",
   "execution_count": null,
   "id": "4f29fba9",
   "metadata": {},
   "outputs": [],
   "source": [
    "def evaluate_model(model, X_test, y_test):\n",
    "    y_pred = []\n",
    "    for tweet in X_test:\n",
    "        bert_input = encode_example(tweet)\n",
    "        tf_output = model.predict([bert_input['input_ids'], bert_input['token_type_ids'], bert_input['attention_mask']])[0]\n",
    "        tf_pred = tf.nn.softmax(tf_output, axis=1).numpy()[0]\n",
    "        new_label = np.argmax(tf_pred, axis=-1)\n",
    "        y_pred.append(new_label)\n",
    "    print(classification_report(y_test, y_pred, labels=[0, 1], target_names=['negative', 'positive']))"
   ]
  },
  {
   "cell_type": "code",
   "execution_count": null,
   "id": "bc59d7e0",
   "metadata": {},
   "outputs": [],
   "source": [
    "def load_and_evaluate_existing_model(export_dir, num_points=200):\n",
    "    model = load_existing_model(export_dir)\n",
    "    df = read_existing_file(english_twitter)\n",
    "    df = clean_data(df)\n",
    "    df = pd.concat([df.head(num_points),df.tail(num_points)])\n",
    "    (X_train, X_test, y_train, y_test) = split_dataset(df, 'tweet', 'sentiment',20)\n",
    "    evaluate_model(model, X_test, y_test)"
   ]
  },
  {
   "cell_type": "code",
   "execution_count": null,
   "id": "51da09ca",
   "metadata": {},
   "outputs": [],
   "source": [
    "load_and_evaluate_existing_model('bert_twitter_model')"
   ]
  },
  {
   "cell_type": "code",
   "execution_count": null,
   "id": "b473ea76",
   "metadata": {},
   "outputs": [],
   "source": []
  }
 ],
 "metadata": {
  "kernelspec": {
   "display_name": "Python 3",
   "language": "python",
   "name": "python3"
  },
  "language_info": {
   "codemirror_mode": {
    "name": "ipython",
    "version": 3
   },
   "file_extension": ".py",
   "mimetype": "text/x-python",
   "name": "python",
   "nbconvert_exporter": "python",
   "pygments_lexer": "ipython3",
   "version": "3.8.8"
  }
 },
 "nbformat": 4,
 "nbformat_minor": 5
}
