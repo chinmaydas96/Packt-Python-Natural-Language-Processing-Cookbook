{
 "cells": [
  {
   "cell_type": "code",
   "execution_count": 3,
   "id": "43079881",
   "metadata": {},
   "outputs": [
    {
     "data": {
      "text/plain": [
       "'\\n! pip install inflect\\n! python -m spacy download en_core_web_md\\n! pip install textacy\\n! pip install neuralcoref\\n'"
      ]
     },
     "execution_count": 3,
     "metadata": {},
     "output_type": "execute_result"
    }
   ],
   "source": [
    "'''\n",
    "! pip install inflect\n",
    "! python -m spacy download en_core_web_md\n",
    "! pip install textacy\n",
    "! pip install neuralcoref\n",
    "'''"
   ]
  },
  {
   "cell_type": "markdown",
   "id": "2cd94c0e",
   "metadata": {},
   "source": [
    "## Counting nouns – plural and singular nouns\n",
    "\n",
    "* Determine whether a noun is plural or singular\n",
    "* Turn plural nouns into singular nouns and vice versa"
   ]
  },
  {
   "cell_type": "code",
   "execution_count": 16,
   "id": "d04f2107",
   "metadata": {},
   "outputs": [],
   "source": [
    "import os,sys,inspect\n",
    "currentdir = os.path.dirname(os.path.abspath(inspect.getfile(inspect.currentframe())))\n",
    "parentdir = os.path.dirname(currentdir)\n",
    "sys.path.insert(0,parentdir)\n",
    "\n",
    "os.chdir('../')"
   ]
  },
  {
   "cell_type": "code",
   "execution_count": 28,
   "id": "6a542c8e",
   "metadata": {},
   "outputs": [
    {
     "name": "stdout",
     "output_type": "stream",
     "text": [
      "/Users/bat/projects/Books\r\n"
     ]
    }
   ],
   "source": [
    "! pwd"
   ]
  },
  {
   "cell_type": "code",
   "execution_count": 36,
   "id": "1d5c14c0",
   "metadata": {},
   "outputs": [],
   "source": [
    "import sys\n",
    "sys.path.append('/Users/bat/projects/Books/')\n",
    "sys.path.append('/Users/bat/projects/Books/Chapter01/')"
   ]
  },
  {
   "cell_type": "code",
   "execution_count": 42,
   "id": "b3f42a44",
   "metadata": {},
   "outputs": [
    {
     "ename": "ModuleNotFoundError",
     "evalue": "No module named 'dividing_into_sentences'",
     "output_type": "error",
     "traceback": [
      "\u001b[0;31m---------------------------------------------------------------------------\u001b[0m",
      "\u001b[0;31mModuleNotFoundError\u001b[0m                       Traceback (most recent call last)",
      "\u001b[0;32m<ipython-input-42-daff5642c331>\u001b[0m in \u001b[0;36m<module>\u001b[0;34m\u001b[0m\n\u001b[0;32m----> 1\u001b[0;31m \u001b[0;32mfrom\u001b[0m \u001b[0mChapter01\u001b[0m\u001b[0;34m.\u001b[0m\u001b[0mpos_tagging\u001b[0m \u001b[0;32mimport\u001b[0m \u001b[0mpos_tag_nltk\u001b[0m\u001b[0;34m\u001b[0m\u001b[0;34m\u001b[0m\u001b[0m\n\u001b[0m",
      "\u001b[0;32m~/projects/Books/Packt-Python-Natural-Language-Processing-Cookbook/Chapter01/pos_tagging.py\u001b[0m in \u001b[0;36m<module>\u001b[0;34m\u001b[0m\n\u001b[1;32m      2\u001b[0m \u001b[0;32mimport\u001b[0m \u001b[0mtime\u001b[0m\u001b[0;34m\u001b[0m\u001b[0;34m\u001b[0m\u001b[0m\n\u001b[1;32m      3\u001b[0m \u001b[0;32mimport\u001b[0m \u001b[0mspacy\u001b[0m\u001b[0;34m\u001b[0m\u001b[0;34m\u001b[0m\u001b[0m\n\u001b[0;32m----> 4\u001b[0;31m \u001b[0;32mfrom\u001b[0m \u001b[0mdividing_into_sentences\u001b[0m \u001b[0;32mimport\u001b[0m \u001b[0mdivide_into_sentences_nltk\u001b[0m\u001b[0;34m,\u001b[0m \u001b[0mread_text_file\u001b[0m\u001b[0;34m,\u001b[0m \u001b[0mpreprocess_text\u001b[0m\u001b[0;34m\u001b[0m\u001b[0;34m\u001b[0m\u001b[0m\n\u001b[0m\u001b[1;32m      5\u001b[0m \u001b[0;32mfrom\u001b[0m \u001b[0mtokenization\u001b[0m \u001b[0;32mimport\u001b[0m \u001b[0mtokenize_nltk\u001b[0m\u001b[0;34m\u001b[0m\u001b[0;34m\u001b[0m\u001b[0m\n\u001b[1;32m      6\u001b[0m \u001b[0;34m\u001b[0m\u001b[0m\n",
      "\u001b[0;31mModuleNotFoundError\u001b[0m: No module named 'dividing_into_sentences'"
     ]
    }
   ],
   "source": [
    "from Chapter01.pos_tagging import pos_tag_nltk"
   ]
  },
  {
   "cell_type": "code",
   "execution_count": 4,
   "id": "b39a13a0",
   "metadata": {},
   "outputs": [],
   "source": [
    "import nltk\n",
    "from nltk.stem import WordNetLemmatizer\n",
    "import inflect"
   ]
  },
  {
   "cell_type": "code",
   "execution_count": null,
   "id": "4acb019d",
   "metadata": {},
   "outputs": [],
   "source": []
  }
 ],
 "metadata": {
  "kernelspec": {
   "display_name": "Python 3",
   "language": "python",
   "name": "python3"
  },
  "language_info": {
   "codemirror_mode": {
    "name": "ipython",
    "version": 3
   },
   "file_extension": ".py",
   "mimetype": "text/x-python",
   "name": "python",
   "nbconvert_exporter": "python",
   "pygments_lexer": "ipython3",
   "version": "3.8.8"
  }
 },
 "nbformat": 4,
 "nbformat_minor": 5
}
