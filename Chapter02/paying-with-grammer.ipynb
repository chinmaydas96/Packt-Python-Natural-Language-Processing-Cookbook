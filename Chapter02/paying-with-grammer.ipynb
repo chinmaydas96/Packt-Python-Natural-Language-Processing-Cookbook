{
 "cells": [
  {
   "cell_type": "code",
   "execution_count": 1,
   "id": "43079881",
   "metadata": {},
   "outputs": [
    {
     "data": {
      "text/plain": [
       "'\\n! pip install inflect\\n! python -m spacy download en_core_web_md\\n! pip install textacy\\n! pip install neuralcoref\\n'"
      ]
     },
     "execution_count": 1,
     "metadata": {},
     "output_type": "execute_result"
    }
   ],
   "source": [
    "'''\n",
    "! pip install inflect\n",
    "! python -m spacy download en_core_web_md\n",
    "! pip install textacy\n",
    "! pip install neuralcoref\n",
    "'''"
   ]
  },
  {
   "cell_type": "markdown",
   "id": "2cd94c0e",
   "metadata": {},
   "source": [
    "## Counting nouns – plural and singular nouns\n",
    "\n",
    "* Determine whether a noun is plural or singular\n",
    "* Turn plural nouns into singular nouns and vice versa"
   ]
  },
  {
   "cell_type": "code",
   "execution_count": 2,
   "id": "b3f42a44",
   "metadata": {},
   "outputs": [],
   "source": [
    "import sys\n",
    "sys.path.append('..')\n",
    "\n",
    "from Chapter01.pos_tagging import pos_tag_nltk"
   ]
  },
  {
   "cell_type": "code",
   "execution_count": 3,
   "id": "b39a13a0",
   "metadata": {},
   "outputs": [],
   "source": [
    "import nltk\n",
    "from nltk.stem import WordNetLemmatizer\n",
    "import inflect"
   ]
  },
  {
   "cell_type": "code",
   "execution_count": 6,
   "id": "d319b852",
   "metadata": {},
   "outputs": [],
   "source": [
    "with open('../Chapter01/sherlock_holmes_1.txt', 'r', encoding=\"utf-8\") as f:\n",
    "    text = f.read()"
   ]
  },
  {
   "cell_type": "code",
   "execution_count": 7,
   "id": "b5c9cbee",
   "metadata": {},
   "outputs": [],
   "source": [
    "text = text.replace('\\n', ' ')"
   ]
  },
  {
   "cell_type": "code",
   "execution_count": 8,
   "id": "4acb019d",
   "metadata": {},
   "outputs": [
    {
     "data": {
      "text/plain": [
       "'To Sherlock Holmes she is always _the_ woman. I have seldom heard him mention her under any other name. In his eyes she eclipses and predominates the whole of her sex. It was not that he felt any emotion akin to love for Irene Adler. All emotions, and that one particularly, were abhorrent to his cold, precise but admirably balanced mind. He was, I take it, the most perfect reasoning and observing machine that the world has seen, but as a lover he would have placed himself in a false position. He never spoke of the softer passions, save with a gibe and a sneer. They were admirable things for the observer—excellent for drawing the veil from men’s motives and actions. But for the trained reasoner to admit such intrusions into his own delicate and finely adjusted temperament was to introduce a distracting factor which might throw a doubt upon all his mental results. Grit in a sensitive instrument, or a crack in one of his own high-power lenses, would not be more disturbing than a strong emotion in a nature such as his. And yet there was but one woman to him, and that woman was the late Irene Adler, of dubious and questionable memory.'"
      ]
     },
     "execution_count": 8,
     "metadata": {},
     "output_type": "execute_result"
    }
   ],
   "source": [
    "text"
   ]
  },
  {
   "cell_type": "code",
   "execution_count": 11,
   "id": "caef0dc5",
   "metadata": {},
   "outputs": [
    {
     "data": {
      "text/plain": [
       "[('To', 'TO'),\n",
       " ('Sherlock', 'NNP'),\n",
       " ('Holmes', 'NNP'),\n",
       " ('she', 'PRP'),\n",
       " ('is', 'VBZ')]"
      ]
     },
     "execution_count": 11,
     "metadata": {},
     "output_type": "execute_result"
    }
   ],
   "source": [
    "words_with_pos = pos_tag_nltk(text)\n",
    "words_with_pos[:5]"
   ]
  },
  {
   "cell_type": "code",
   "execution_count": 12,
   "id": "247ac7ae",
   "metadata": {},
   "outputs": [],
   "source": [
    "def get_nouns(words_with_pos):\n",
    "    nouns_set = [\"NN\", \"NNS\"]\n",
    "    nouns = [word for word in words_with_pos if word[1] in nouns_set]\n",
    "    return nouns"
   ]
  },
  {
   "cell_type": "code",
   "execution_count": 13,
   "id": "889c23b1",
   "metadata": {},
   "outputs": [
    {
     "name": "stdout",
     "output_type": "stream",
     "text": [
      "[('woman', 'NN'), ('name', 'NN'), ('eyes', 'NNS'), ('whole', 'NN'), ('sex', 'NN'), ('emotion', 'NN'), ('akin', 'NN'), ('emotions', 'NNS'), ('cold', 'NN'), ('precise', 'NN'), ('mind', 'NN'), ('reasoning', 'NN'), ('machine', 'NN'), ('world', 'NN'), ('lover', 'NN'), ('position', 'NN'), ('passions', 'NNS'), ('gibe', 'NN'), ('sneer', 'NN'), ('things', 'NNS'), ('observer—excellent', 'NN'), ('veil', 'NN'), ('men', 'NNS'), ('motives', 'NNS'), ('actions', 'NNS'), ('reasoner', 'NN'), ('intrusions', 'NNS'), ('delicate', 'NN'), ('temperament', 'NN'), ('distracting', 'NN'), ('factor', 'NN'), ('doubt', 'NN'), ('results', 'NNS'), ('instrument', 'NN'), ('crack', 'NN'), ('high-power', 'NN'), ('lenses', 'NNS'), ('emotion', 'NN'), ('nature', 'NN'), ('woman', 'NN'), ('woman', 'NN'), ('memory', 'NN')]\n"
     ]
    }
   ],
   "source": [
    "nouns = get_nouns(words_with_pos)\n",
    "print(nouns)"
   ]
  },
  {
   "cell_type": "code",
   "execution_count": 50,
   "id": "6bc8fea4",
   "metadata": {},
   "outputs": [],
   "source": [
    "def is_plural_nltk(noun_info):\n",
    "    pos = noun_info[1]\n",
    "    if pos == \"NNS\":\n",
    "        return True\n",
    "    else:\n",
    "        return False"
   ]
  },
  {
   "cell_type": "code",
   "execution_count": 51,
   "id": "0ccc7889",
   "metadata": {},
   "outputs": [
    {
     "data": {
      "text/plain": [
       "True"
      ]
     },
     "execution_count": 51,
     "metadata": {},
     "output_type": "execute_result"
    }
   ],
   "source": [
    "is_plural_nltk(nouns[2])"
   ]
  },
  {
   "cell_type": "code",
   "execution_count": 40,
   "id": "de800276",
   "metadata": {},
   "outputs": [],
   "source": [
    "def is_plural_wn(noun):\n",
    "    wnl = WordNetLemmatizer()\n",
    "    lemma = wnl.lemmatize(noun, 'n')\n",
    "    plural = True if noun is not lemma else False\n",
    "    return plural"
   ]
  },
  {
   "cell_type": "code",
   "execution_count": 42,
   "id": "cdc86bc9",
   "metadata": {},
   "outputs": [
    {
     "data": {
      "text/plain": [
       "True"
      ]
     },
     "execution_count": 42,
     "metadata": {},
     "output_type": "execute_result"
    }
   ],
   "source": [
    "is_plural_wn('women')"
   ]
  },
  {
   "cell_type": "code",
   "execution_count": 16,
   "id": "fdcd4aab",
   "metadata": {},
   "outputs": [],
   "source": [
    "def get_plural(singular_noun):\n",
    "    p = inflect.engine()\n",
    "    return p.plural(singular_noun)"
   ]
  },
  {
   "cell_type": "code",
   "execution_count": 44,
   "id": "5bce8216",
   "metadata": {},
   "outputs": [
    {
     "data": {
      "text/plain": [
       "'runs'"
      ]
     },
     "execution_count": 44,
     "metadata": {},
     "output_type": "execute_result"
    }
   ],
   "source": [
    "get_plural('run')"
   ]
  },
  {
   "cell_type": "code",
   "execution_count": 48,
   "id": "da8a877a",
   "metadata": {},
   "outputs": [],
   "source": [
    "def get_singular(plural_noun):\n",
    "    p = inflect.engine()\n",
    "    plural = p.singular_noun(plural_noun)\n",
    "    if plural :\n",
    "        return plural\n",
    "    else:\n",
    "        return plural_noun"
   ]
  },
  {
   "cell_type": "code",
   "execution_count": 49,
   "id": "ff467853",
   "metadata": {},
   "outputs": [
    {
     "data": {
      "text/plain": [
       "'emotion'"
      ]
     },
     "execution_count": 49,
     "metadata": {},
     "output_type": "execute_result"
    }
   ],
   "source": [
    "get_singular('emotions')"
   ]
  },
  {
   "cell_type": "code",
   "execution_count": 52,
   "id": "33d1b374",
   "metadata": {},
   "outputs": [],
   "source": [
    "def plurals_wn(words_with_pos):\n",
    "    other_nouns = []\n",
    "    for noun_info in words_with_pos:\n",
    "        word = noun_info[0]\n",
    "        plural = is_plural_wn(word)\n",
    "        if plural:\n",
    "            singular = get_singular(word)\n",
    "            other_nouns.append(singular)\n",
    "        else:\n",
    "            plural = get_plural(word)\n",
    "            other_nouns.append(plural)\n",
    "    return other_nouns"
   ]
  },
  {
   "cell_type": "code",
   "execution_count": 54,
   "id": "c4ed7836",
   "metadata": {},
   "outputs": [
    {
     "data": {
      "text/plain": [
       "['women',\n",
       " 'names',\n",
       " 'eye',\n",
       " 'wholes',\n",
       " 'sexes',\n",
       " 'emotions',\n",
       " 'akins',\n",
       " 'emotion',\n",
       " 'colds',\n",
       " 'precises',\n",
       " 'minds',\n",
       " 'reasonings',\n",
       " 'machines',\n",
       " 'worlds',\n",
       " 'lovers',\n",
       " 'positions',\n",
       " 'passion',\n",
       " 'gibes',\n",
       " 'sneers',\n",
       " 'thing',\n",
       " 'observer—excellents',\n",
       " 'veils',\n",
       " 'mens',\n",
       " 'motive',\n",
       " 'action',\n",
       " 'reasoners',\n",
       " 'intrusion',\n",
       " 'delicates',\n",
       " 'temperaments',\n",
       " 'distractings',\n",
       " 'factors',\n",
       " 'doubts',\n",
       " 'result',\n",
       " 'instruments',\n",
       " 'cracks',\n",
       " 'high-powers',\n",
       " 'lens',\n",
       " 'emotions',\n",
       " 'natures',\n",
       " 'women',\n",
       " 'women',\n",
       " 'memories']"
      ]
     },
     "execution_count": 54,
     "metadata": {},
     "output_type": "execute_result"
    }
   ],
   "source": [
    "other_nouns_wn = plurals_wn(nouns)\n",
    "other_nouns_wn"
   ]
  },
  {
   "cell_type": "markdown",
   "id": "724a9194",
   "metadata": {},
   "source": [
    "## Getting the dependency parse\n",
    "\n",
    "* A dependency parse is a tool that shows dependencies in a sentence. \n",
    "\n",
    "* For example, in the sentence The cat wore a hat, the root of the sentence in the verb, wore, and both the subject, the cat, and the object, a hat, are dependents. "
   ]
  },
  {
   "cell_type": "code",
   "execution_count": 55,
   "id": "8d3b8d9b",
   "metadata": {},
   "outputs": [],
   "source": [
    "import spacy"
   ]
  },
  {
   "cell_type": "code",
   "execution_count": 56,
   "id": "a3e65f4f",
   "metadata": {},
   "outputs": [],
   "source": [
    "sentence = 'I have seldom heard him mention her under any other name.'"
   ]
  },
  {
   "cell_type": "code",
   "execution_count": 57,
   "id": "14d7a5c8",
   "metadata": {},
   "outputs": [],
   "source": [
    "nlp = spacy.load('en_core_web_sm')"
   ]
  },
  {
   "cell_type": "code",
   "execution_count": 58,
   "id": "fd6ce4f8",
   "metadata": {},
   "outputs": [],
   "source": [
    "doc = nlp(sentence)"
   ]
  },
  {
   "cell_type": "code",
   "execution_count": 60,
   "id": "b8ce2f4e",
   "metadata": {},
   "outputs": [
    {
     "name": "stdout",
     "output_type": "stream",
     "text": [
      "I \t nsubj \t nominal subject\n",
      "have \t aux \t auxiliary\n",
      "seldom \t advmod \t adverbial modifier\n",
      "heard \t ROOT \t None\n",
      "him \t nsubj \t nominal subject\n",
      "mention \t ccomp \t clausal complement\n",
      "her \t dobj \t direct object\n",
      "under \t prep \t prepositional modifier\n",
      "any \t det \t determiner\n",
      "other \t amod \t adjectival modifier\n",
      "name \t pobj \t object of preposition\n",
      ". \t punct \t punctuation\n"
     ]
    }
   ],
   "source": [
    "for token in doc:\n",
    "    print(token.text, '\\t', token.dep_,'\\t', spacy.explain(token.dep_))"
   ]
  },
  {
   "cell_type": "markdown",
   "id": "25240dd4",
   "metadata": {},
   "source": [
    "* ROOT is the main word that all the other words depend on, usually the verb.\n",
    "\n",
    "\n",
    "* \n",
    "---"
   ]
  },
  {
   "cell_type": "markdown",
   "id": "efea2040",
   "metadata": {},
   "source": [
    "* To explore the dependency parse structure, we can use the attributes of the Token class. Using its ancestors and children attributes,\n",
    "\n",
    "\n",
    "* We can get the **tokens that this token depends on** and the **tokens that depend on it**, respectively."
   ]
  },
  {
   "cell_type": "code",
   "execution_count": 62,
   "id": "bf279758",
   "metadata": {},
   "outputs": [
    {
     "name": "stdout",
     "output_type": "stream",
     "text": [
      "I\n",
      "['heard']\n",
      "have\n",
      "['heard']\n",
      "seldom\n",
      "['heard']\n",
      "heard\n",
      "[]\n",
      "him\n",
      "['mention', 'heard']\n",
      "mention\n",
      "['heard']\n",
      "her\n",
      "['mention', 'heard']\n",
      "under\n",
      "['mention', 'heard']\n",
      "any\n",
      "['name', 'under', 'mention', 'heard']\n",
      "other\n",
      "['name', 'under', 'mention', 'heard']\n",
      "name\n",
      "['under', 'mention', 'heard']\n",
      ".\n",
      "['heard']\n"
     ]
    }
   ],
   "source": [
    "for token in doc:\n",
    "    print(token.text)\n",
    "    ancestor = [t.text for t in token.ancestors]\n",
    "    print(ancestor)"
   ]
  },
  {
   "cell_type": "code",
   "execution_count": 64,
   "id": "ea58084c",
   "metadata": {},
   "outputs": [
    {
     "name": "stdout",
     "output_type": "stream",
     "text": [
      "I\n",
      "[]\n",
      "have\n",
      "[]\n",
      "seldom\n",
      "[]\n",
      "heard\n",
      "['I', 'have', 'seldom', 'mention', '.']\n",
      "him\n",
      "[]\n",
      "mention\n",
      "['him', 'her', 'under']\n",
      "her\n",
      "[]\n",
      "under\n",
      "['name']\n",
      "any\n",
      "[]\n",
      "other\n",
      "[]\n",
      "name\n",
      "['any', 'other']\n",
      ".\n",
      "[]\n"
     ]
    }
   ],
   "source": [
    "for token in doc:\n",
    "    print(token.text)\n",
    "    children = [t.text for t in token.children]\n",
    "    print(children)"
   ]
  },
  {
   "cell_type": "code",
   "execution_count": 66,
   "id": "cc383eec",
   "metadata": {},
   "outputs": [
    {
     "name": "stdout",
     "output_type": "stream",
     "text": [
      "I\n",
      "['I']\n",
      "have\n",
      "['have']\n",
      "seldom\n",
      "['seldom']\n",
      "heard\n",
      "['I', 'have', 'seldom', 'heard', 'him', 'mention', 'her', 'under', 'any', 'other', 'name', '.']\n",
      "him\n",
      "['him']\n",
      "mention\n",
      "['him', 'mention', 'her', 'under', 'any', 'other', 'name']\n",
      "her\n",
      "['her']\n",
      "under\n",
      "['under', 'any', 'other', 'name']\n",
      "any\n",
      "['any']\n",
      "other\n",
      "['other']\n",
      "name\n",
      "['any', 'other', 'name']\n",
      ".\n",
      "['.']\n"
     ]
    }
   ],
   "source": [
    "for token in doc:\n",
    "    print(token.text)\n",
    "    subtree = [t.text for t in token.subtree]\n",
    "    print(subtree)"
   ]
  },
  {
   "cell_type": "code",
   "execution_count": 67,
   "id": "a1ba0a2b",
   "metadata": {},
   "outputs": [
    {
     "data": {
      "text/html": [
       "<span class=\"tex2jax_ignore\"><svg xmlns=\"http://www.w3.org/2000/svg\" xmlns:xlink=\"http://www.w3.org/1999/xlink\" xml:lang=\"en\" id=\"57516af8adbb4aefa43a43c85467cfe7-0\" class=\"displacy\" width=\"1975\" height=\"399.5\" direction=\"ltr\" style=\"max-width: none; height: 399.5px; color: #000000; background: #ffffff; font-family: Arial; direction: ltr\">\n",
       "<text class=\"displacy-token\" fill=\"currentColor\" text-anchor=\"middle\" y=\"309.5\">\n",
       "    <tspan class=\"displacy-word\" fill=\"currentColor\" x=\"50\">I</tspan>\n",
       "    <tspan class=\"displacy-tag\" dy=\"2em\" fill=\"currentColor\" x=\"50\">PRON</tspan>\n",
       "</text>\n",
       "\n",
       "<text class=\"displacy-token\" fill=\"currentColor\" text-anchor=\"middle\" y=\"309.5\">\n",
       "    <tspan class=\"displacy-word\" fill=\"currentColor\" x=\"225\">have</tspan>\n",
       "    <tspan class=\"displacy-tag\" dy=\"2em\" fill=\"currentColor\" x=\"225\">AUX</tspan>\n",
       "</text>\n",
       "\n",
       "<text class=\"displacy-token\" fill=\"currentColor\" text-anchor=\"middle\" y=\"309.5\">\n",
       "    <tspan class=\"displacy-word\" fill=\"currentColor\" x=\"400\">seldom</tspan>\n",
       "    <tspan class=\"displacy-tag\" dy=\"2em\" fill=\"currentColor\" x=\"400\">ADV</tspan>\n",
       "</text>\n",
       "\n",
       "<text class=\"displacy-token\" fill=\"currentColor\" text-anchor=\"middle\" y=\"309.5\">\n",
       "    <tspan class=\"displacy-word\" fill=\"currentColor\" x=\"575\">heard</tspan>\n",
       "    <tspan class=\"displacy-tag\" dy=\"2em\" fill=\"currentColor\" x=\"575\">VERB</tspan>\n",
       "</text>\n",
       "\n",
       "<text class=\"displacy-token\" fill=\"currentColor\" text-anchor=\"middle\" y=\"309.5\">\n",
       "    <tspan class=\"displacy-word\" fill=\"currentColor\" x=\"750\">him</tspan>\n",
       "    <tspan class=\"displacy-tag\" dy=\"2em\" fill=\"currentColor\" x=\"750\">PRON</tspan>\n",
       "</text>\n",
       "\n",
       "<text class=\"displacy-token\" fill=\"currentColor\" text-anchor=\"middle\" y=\"309.5\">\n",
       "    <tspan class=\"displacy-word\" fill=\"currentColor\" x=\"925\">mention</tspan>\n",
       "    <tspan class=\"displacy-tag\" dy=\"2em\" fill=\"currentColor\" x=\"925\">VERB</tspan>\n",
       "</text>\n",
       "\n",
       "<text class=\"displacy-token\" fill=\"currentColor\" text-anchor=\"middle\" y=\"309.5\">\n",
       "    <tspan class=\"displacy-word\" fill=\"currentColor\" x=\"1100\">her</tspan>\n",
       "    <tspan class=\"displacy-tag\" dy=\"2em\" fill=\"currentColor\" x=\"1100\">PRON</tspan>\n",
       "</text>\n",
       "\n",
       "<text class=\"displacy-token\" fill=\"currentColor\" text-anchor=\"middle\" y=\"309.5\">\n",
       "    <tspan class=\"displacy-word\" fill=\"currentColor\" x=\"1275\">under</tspan>\n",
       "    <tspan class=\"displacy-tag\" dy=\"2em\" fill=\"currentColor\" x=\"1275\">ADP</tspan>\n",
       "</text>\n",
       "\n",
       "<text class=\"displacy-token\" fill=\"currentColor\" text-anchor=\"middle\" y=\"309.5\">\n",
       "    <tspan class=\"displacy-word\" fill=\"currentColor\" x=\"1450\">any</tspan>\n",
       "    <tspan class=\"displacy-tag\" dy=\"2em\" fill=\"currentColor\" x=\"1450\">DET</tspan>\n",
       "</text>\n",
       "\n",
       "<text class=\"displacy-token\" fill=\"currentColor\" text-anchor=\"middle\" y=\"309.5\">\n",
       "    <tspan class=\"displacy-word\" fill=\"currentColor\" x=\"1625\">other</tspan>\n",
       "    <tspan class=\"displacy-tag\" dy=\"2em\" fill=\"currentColor\" x=\"1625\">ADJ</tspan>\n",
       "</text>\n",
       "\n",
       "<text class=\"displacy-token\" fill=\"currentColor\" text-anchor=\"middle\" y=\"309.5\">\n",
       "    <tspan class=\"displacy-word\" fill=\"currentColor\" x=\"1800\">name.</tspan>\n",
       "    <tspan class=\"displacy-tag\" dy=\"2em\" fill=\"currentColor\" x=\"1800\">NOUN</tspan>\n",
       "</text>\n",
       "\n",
       "<g class=\"displacy-arrow\">\n",
       "    <path class=\"displacy-arc\" id=\"arrow-57516af8adbb4aefa43a43c85467cfe7-0-0\" stroke-width=\"2px\" d=\"M70,264.5 C70,2.0 575.0,2.0 575.0,264.5\" fill=\"none\" stroke=\"currentColor\"/>\n",
       "    <text dy=\"1.25em\" style=\"font-size: 0.8em; letter-spacing: 1px\">\n",
       "        <textPath xlink:href=\"#arrow-57516af8adbb4aefa43a43c85467cfe7-0-0\" class=\"displacy-label\" startOffset=\"50%\" side=\"left\" fill=\"currentColor\" text-anchor=\"middle\">nsubj</textPath>\n",
       "    </text>\n",
       "    <path class=\"displacy-arrowhead\" d=\"M70,266.5 L62,254.5 78,254.5\" fill=\"currentColor\"/>\n",
       "</g>\n",
       "\n",
       "<g class=\"displacy-arrow\">\n",
       "    <path class=\"displacy-arc\" id=\"arrow-57516af8adbb4aefa43a43c85467cfe7-0-1\" stroke-width=\"2px\" d=\"M245,264.5 C245,89.5 570.0,89.5 570.0,264.5\" fill=\"none\" stroke=\"currentColor\"/>\n",
       "    <text dy=\"1.25em\" style=\"font-size: 0.8em; letter-spacing: 1px\">\n",
       "        <textPath xlink:href=\"#arrow-57516af8adbb4aefa43a43c85467cfe7-0-1\" class=\"displacy-label\" startOffset=\"50%\" side=\"left\" fill=\"currentColor\" text-anchor=\"middle\">aux</textPath>\n",
       "    </text>\n",
       "    <path class=\"displacy-arrowhead\" d=\"M245,266.5 L237,254.5 253,254.5\" fill=\"currentColor\"/>\n",
       "</g>\n",
       "\n",
       "<g class=\"displacy-arrow\">\n",
       "    <path class=\"displacy-arc\" id=\"arrow-57516af8adbb4aefa43a43c85467cfe7-0-2\" stroke-width=\"2px\" d=\"M420,264.5 C420,177.0 565.0,177.0 565.0,264.5\" fill=\"none\" stroke=\"currentColor\"/>\n",
       "    <text dy=\"1.25em\" style=\"font-size: 0.8em; letter-spacing: 1px\">\n",
       "        <textPath xlink:href=\"#arrow-57516af8adbb4aefa43a43c85467cfe7-0-2\" class=\"displacy-label\" startOffset=\"50%\" side=\"left\" fill=\"currentColor\" text-anchor=\"middle\">advmod</textPath>\n",
       "    </text>\n",
       "    <path class=\"displacy-arrowhead\" d=\"M420,266.5 L412,254.5 428,254.5\" fill=\"currentColor\"/>\n",
       "</g>\n",
       "\n",
       "<g class=\"displacy-arrow\">\n",
       "    <path class=\"displacy-arc\" id=\"arrow-57516af8adbb4aefa43a43c85467cfe7-0-3\" stroke-width=\"2px\" d=\"M770,264.5 C770,177.0 915.0,177.0 915.0,264.5\" fill=\"none\" stroke=\"currentColor\"/>\n",
       "    <text dy=\"1.25em\" style=\"font-size: 0.8em; letter-spacing: 1px\">\n",
       "        <textPath xlink:href=\"#arrow-57516af8adbb4aefa43a43c85467cfe7-0-3\" class=\"displacy-label\" startOffset=\"50%\" side=\"left\" fill=\"currentColor\" text-anchor=\"middle\">nsubj</textPath>\n",
       "    </text>\n",
       "    <path class=\"displacy-arrowhead\" d=\"M770,266.5 L762,254.5 778,254.5\" fill=\"currentColor\"/>\n",
       "</g>\n",
       "\n",
       "<g class=\"displacy-arrow\">\n",
       "    <path class=\"displacy-arc\" id=\"arrow-57516af8adbb4aefa43a43c85467cfe7-0-4\" stroke-width=\"2px\" d=\"M595,264.5 C595,89.5 920.0,89.5 920.0,264.5\" fill=\"none\" stroke=\"currentColor\"/>\n",
       "    <text dy=\"1.25em\" style=\"font-size: 0.8em; letter-spacing: 1px\">\n",
       "        <textPath xlink:href=\"#arrow-57516af8adbb4aefa43a43c85467cfe7-0-4\" class=\"displacy-label\" startOffset=\"50%\" side=\"left\" fill=\"currentColor\" text-anchor=\"middle\">ccomp</textPath>\n",
       "    </text>\n",
       "    <path class=\"displacy-arrowhead\" d=\"M920.0,266.5 L928.0,254.5 912.0,254.5\" fill=\"currentColor\"/>\n",
       "</g>\n",
       "\n",
       "<g class=\"displacy-arrow\">\n",
       "    <path class=\"displacy-arc\" id=\"arrow-57516af8adbb4aefa43a43c85467cfe7-0-5\" stroke-width=\"2px\" d=\"M945,264.5 C945,177.0 1090.0,177.0 1090.0,264.5\" fill=\"none\" stroke=\"currentColor\"/>\n",
       "    <text dy=\"1.25em\" style=\"font-size: 0.8em; letter-spacing: 1px\">\n",
       "        <textPath xlink:href=\"#arrow-57516af8adbb4aefa43a43c85467cfe7-0-5\" class=\"displacy-label\" startOffset=\"50%\" side=\"left\" fill=\"currentColor\" text-anchor=\"middle\">dobj</textPath>\n",
       "    </text>\n",
       "    <path class=\"displacy-arrowhead\" d=\"M1090.0,266.5 L1098.0,254.5 1082.0,254.5\" fill=\"currentColor\"/>\n",
       "</g>\n",
       "\n",
       "<g class=\"displacy-arrow\">\n",
       "    <path class=\"displacy-arc\" id=\"arrow-57516af8adbb4aefa43a43c85467cfe7-0-6\" stroke-width=\"2px\" d=\"M945,264.5 C945,89.5 1270.0,89.5 1270.0,264.5\" fill=\"none\" stroke=\"currentColor\"/>\n",
       "    <text dy=\"1.25em\" style=\"font-size: 0.8em; letter-spacing: 1px\">\n",
       "        <textPath xlink:href=\"#arrow-57516af8adbb4aefa43a43c85467cfe7-0-6\" class=\"displacy-label\" startOffset=\"50%\" side=\"left\" fill=\"currentColor\" text-anchor=\"middle\">prep</textPath>\n",
       "    </text>\n",
       "    <path class=\"displacy-arrowhead\" d=\"M1270.0,266.5 L1278.0,254.5 1262.0,254.5\" fill=\"currentColor\"/>\n",
       "</g>\n",
       "\n",
       "<g class=\"displacy-arrow\">\n",
       "    <path class=\"displacy-arc\" id=\"arrow-57516af8adbb4aefa43a43c85467cfe7-0-7\" stroke-width=\"2px\" d=\"M1470,264.5 C1470,89.5 1795.0,89.5 1795.0,264.5\" fill=\"none\" stroke=\"currentColor\"/>\n",
       "    <text dy=\"1.25em\" style=\"font-size: 0.8em; letter-spacing: 1px\">\n",
       "        <textPath xlink:href=\"#arrow-57516af8adbb4aefa43a43c85467cfe7-0-7\" class=\"displacy-label\" startOffset=\"50%\" side=\"left\" fill=\"currentColor\" text-anchor=\"middle\">det</textPath>\n",
       "    </text>\n",
       "    <path class=\"displacy-arrowhead\" d=\"M1470,266.5 L1462,254.5 1478,254.5\" fill=\"currentColor\"/>\n",
       "</g>\n",
       "\n",
       "<g class=\"displacy-arrow\">\n",
       "    <path class=\"displacy-arc\" id=\"arrow-57516af8adbb4aefa43a43c85467cfe7-0-8\" stroke-width=\"2px\" d=\"M1645,264.5 C1645,177.0 1790.0,177.0 1790.0,264.5\" fill=\"none\" stroke=\"currentColor\"/>\n",
       "    <text dy=\"1.25em\" style=\"font-size: 0.8em; letter-spacing: 1px\">\n",
       "        <textPath xlink:href=\"#arrow-57516af8adbb4aefa43a43c85467cfe7-0-8\" class=\"displacy-label\" startOffset=\"50%\" side=\"left\" fill=\"currentColor\" text-anchor=\"middle\">amod</textPath>\n",
       "    </text>\n",
       "    <path class=\"displacy-arrowhead\" d=\"M1645,266.5 L1637,254.5 1653,254.5\" fill=\"currentColor\"/>\n",
       "</g>\n",
       "\n",
       "<g class=\"displacy-arrow\">\n",
       "    <path class=\"displacy-arc\" id=\"arrow-57516af8adbb4aefa43a43c85467cfe7-0-9\" stroke-width=\"2px\" d=\"M1295,264.5 C1295,2.0 1800.0,2.0 1800.0,264.5\" fill=\"none\" stroke=\"currentColor\"/>\n",
       "    <text dy=\"1.25em\" style=\"font-size: 0.8em; letter-spacing: 1px\">\n",
       "        <textPath xlink:href=\"#arrow-57516af8adbb4aefa43a43c85467cfe7-0-9\" class=\"displacy-label\" startOffset=\"50%\" side=\"left\" fill=\"currentColor\" text-anchor=\"middle\">pobj</textPath>\n",
       "    </text>\n",
       "    <path class=\"displacy-arrowhead\" d=\"M1800.0,266.5 L1808.0,254.5 1792.0,254.5\" fill=\"currentColor\"/>\n",
       "</g>\n",
       "</svg></span>"
      ],
      "text/plain": [
       "<IPython.core.display.HTML object>"
      ]
     },
     "metadata": {},
     "output_type": "display_data"
    }
   ],
   "source": [
    "from spacy import displacy\n",
    "displacy.render(doc,jupyter=True)"
   ]
  },
  {
   "cell_type": "markdown",
   "id": "7740c15b",
   "metadata": {},
   "source": [
    "* https://www.analyticsvidhya.com/blog/2020/07/part-of-speechpos-tagging-dependency-parsing-and-constituency-parsing-in-nlp/"
   ]
  }
 ],
 "metadata": {
  "kernelspec": {
   "display_name": "Python 3",
   "language": "python",
   "name": "python3"
  },
  "language_info": {
   "codemirror_mode": {
    "name": "ipython",
    "version": 3
   },
   "file_extension": ".py",
   "mimetype": "text/x-python",
   "name": "python",
   "nbconvert_exporter": "python",
   "pygments_lexer": "ipython3",
   "version": "3.8.8"
  }
 },
 "nbformat": 4,
 "nbformat_minor": 5
}
